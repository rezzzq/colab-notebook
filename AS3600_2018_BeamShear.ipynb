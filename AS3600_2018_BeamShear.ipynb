{
  "cells": [
    {
      "cell_type": "markdown",
      "metadata": {
        "id": "view-in-github",
        "colab_type": "text"
      },
      "source": [
        "<a href=\"https://colab.research.google.com/github/rezzzq/colab-notebook/blob/main/AS3600_2018_BeamShear.ipynb\" target=\"_parent\"><img src=\"https://colab.research.google.com/assets/colab-badge.svg\" alt=\"Open In Colab\"/></a>"
      ]
    },
    {
      "cell_type": "code",
      "execution_count": null,
      "id": "7aa6d180",
      "metadata": {
        "id": "7aa6d180"
      },
      "outputs": [],
      "source": [
        "import math"
      ]
    },
    {
      "cell_type": "code",
      "execution_count": null,
      "id": "c62429e5",
      "metadata": {
        "id": "c62429e5"
      },
      "outputs": [],
      "source": [
        "##Define Section\n",
        "bv = 350 #mm\n",
        "D = 2000 #mm\n",
        "cover = 60 #mm"
      ]
    },
    {
      "cell_type": "code",
      "execution_count": null,
      "id": "4a639b41",
      "metadata": {
        "id": "4a639b41"
      },
      "outputs": [],
      "source": [
        "##Define Material\n",
        "fy = 500 #MPa\n",
        "fc = 50 #MPa\n",
        "E_steel = 200_000 #MPa\n",
        "E_conc = 34_800 #MPa"
      ]
    },
    {
      "cell_type": "code",
      "execution_count": null,
      "id": "ac1874f2",
      "metadata": {
        "id": "ac1874f2"
      },
      "outputs": [],
      "source": [
        "##Define Shear Reinforcement\n",
        "dia_shear = 16 #mm\n",
        "n_leg = 2\n",
        "s_shear = 150 #mm"
      ]
    },
    {
      "cell_type": "code",
      "execution_count": null,
      "id": "56089fa6",
      "metadata": {
        "id": "56089fa6"
      },
      "outputs": [],
      "source": [
        "##Define Longitudinal Reinforcement\n",
        "dia_long = 24 #mm\n",
        "n_long = 4\n",
        "n_layers = 2"
      ]
    },
    {
      "cell_type": "code",
      "source": [
        "##Define the location of Penetration from Support\n",
        "L_beam = 1100 #mm\n",
        "l_peno = 0"
      ],
      "metadata": {
        "id": "YETjd5TGllsD"
      },
      "id": "YETjd5TGllsD",
      "execution_count": null,
      "outputs": []
    },
    {
      "cell_type": "code",
      "source": [
        "##Loads\n",
        "N_star = 0 #kN\n",
        "M_star = 1200 #kNm\n",
        "V_star = 2000 #kNm"
      ],
      "metadata": {
        "id": "CvYxvYL9GH0W"
      },
      "id": "CvYxvYL9GH0W",
      "execution_count": null,
      "outputs": []
    },
    {
      "cell_type": "code",
      "execution_count": null,
      "id": "af9a586f",
      "metadata": {
        "id": "af9a586f"
      },
      "outputs": [],
      "source": [
        "##Minimum Shear Reinforcement\n",
        "Asv_s_min = 0.08*fc**(0.5)*bv/fy"
      ]
    },
    {
      "cell_type": "code",
      "execution_count": null,
      "id": "bc41428d",
      "metadata": {
        "id": "bc41428d"
      },
      "outputs": [],
      "source": [
        "##Calculate epsilon x\n",
        "d = D-cover-dia_shear-dia_long/2-(n_layers-1)*(dia_long+200)/2\n",
        "dv = max(0.72*D,0.9*d)"
      ]
    },
    {
      "cell_type": "code",
      "execution_count": null,
      "id": "868fd063",
      "metadata": {
        "id": "868fd063"
      },
      "outputs": [],
      "source": [
        "Ast = 0.25*math.pi*dia_long**2*n_long"
      ]
    },
    {
      "cell_type": "code",
      "execution_count": null,
      "id": "fbe088dd",
      "metadata": {
        "id": "fbe088dd"
      },
      "outputs": [],
      "source": [
        "Act = bv*D/2"
      ]
    },
    {
      "cell_type": "code",
      "execution_count": null,
      "id": "936bfecb",
      "metadata": {
        "id": "936bfecb"
      },
      "outputs": [],
      "source": [
        "eps_x = (abs(M_star*float(1e6)/dv)+abs(V_star*float(1e3))\n",
        "        +0.5*N_star*float(1e3)) / (2*(E_steel*Ast))"
      ]
    },
    {
      "cell_type": "code",
      "execution_count": null,
      "id": "d5a4fbdd",
      "metadata": {
        "id": "d5a4fbdd"
      },
      "outputs": [],
      "source": [
        "if eps_x > float(3.0e-3):\n",
        "    eps_x = float(3.0e-3)"
      ]
    },
    {
      "cell_type": "code",
      "execution_count": null,
      "id": "229010b6",
      "metadata": {
        "id": "229010b6"
      },
      "outputs": [],
      "source": [
        "if eps_x < 0:\n",
        "    eps_x = (abs(M_star*float(1e6)/dv)+abs(V_star*float(1e3))\n",
        "              +0.5*N_star*float(1e3)) / (2*(E_steel*Ast + Act * E_conc))\n",
        "\n",
        "    if eps_x <= float(-0.2e-3):\n",
        "        eps_x = float(-0.2e-3)"
      ]
    },
    {
      "cell_type": "code",
      "execution_count": null,
      "id": "8f1f7f31",
      "metadata": {
        "id": "8f1f7f31"
      },
      "outputs": [],
      "source": [
        "##Calculate kv\n",
        "Asv_s = 0.25*math.pi*dia_shear**2*n_leg/s_shear"
      ]
    },
    {
      "cell_type": "code",
      "execution_count": null,
      "id": "2cd20370",
      "metadata": {
        "id": "2cd20370"
      },
      "outputs": [],
      "source": [
        "if Asv_s < Asv_s_min:\n",
        "    dg = 20 #mm\n",
        "    kdg = max(0.8, 32 / (16 + 20))\n",
        "    kv = (0.4 / (1+1500*eps_x)) * (1300 / (1000 + kdg))\n",
        "else:\n",
        "    kv = 0.4 / (1+1500*eps_x)"
      ]
    },
    {
      "cell_type": "code",
      "execution_count": null,
      "id": "5fd93a7f",
      "metadata": {
        "id": "5fd93a7f"
      },
      "outputs": [],
      "source": [
        "teta_v = 29+7000*eps_x"
      ]
    },
    {
      "cell_type": "code",
      "execution_count": null,
      "id": "c4170bea",
      "metadata": {
        "id": "c4170bea"
      },
      "outputs": [],
      "source": [
        "##Calcuate phi_Vu\n",
        "Vuc = kv*bv*dv*fc**0.5\n",
        "Vus = Asv_s*fy*dv/math.tan(math.radians(teta_v))\n",
        "Vu = Vuc+Vus\n",
        "phi = 0.75\n",
        "phi_Vu = phi*Vu/float(1e3)\n",
        "dc_ratio = V_star/phi_Vu"
      ]
    },
    {
      "cell_type": "code",
      "execution_count": null,
      "id": "cb85282b",
      "metadata": {
        "id": "cb85282b",
        "colab": {
          "base_uri": "https://localhost:8080/"
        },
        "outputId": "c1303de8-5559-4aaa-a7eb-70c913a22674"
      },
      "outputs": [
        {
          "output_type": "stream",
          "name": "stdout",
          "text": [
            "\n",
            "    -----------------------------------------------------------\n",
            "    INPUT:\n",
            "    bv = 350 mm\n",
            "    D = 2000 mm\n",
            "\n",
            "    f'c = 50 MPa\n",
            "    fy = 500 MPa\n",
            "\n",
            "    Shear Reinforcement: N16-150 (2 legs)\n",
            "\n",
            "    Longitudinal Reinforcement: 4N24\n",
            "\n",
            "    V* = 2000 kN\n",
            "    M* = 1200 kNm\n",
            "    N* = 0 kN\n",
            "\n",
            "    OUTPUT:\n",
            "    eps_x = 0.00300\n",
            "    kv = 0.073\n",
            "    teta_v = 50.0 deg\n",
            "\n",
            "    Vuc = 291.59 kN\n",
            "    Vus = 1822.08 kN\n",
            "    Vu = 2113.66 kN\n",
            "    phi_Vuc = 218.69 kN\n",
            "    phi_Vus = 1366.56 kN\n",
            "    phi_Vu = 1585.25 kN\n",
            "    D/C Ratio = 1.26\n",
            "    \n",
            "    NOT OK\n",
            "\n",
            "    ------------------------------------------------------------\n",
            "    \n"
          ]
        }
      ],
      "source": [
        "print(f\"\"\"\n",
        "    -----------------------------------------------------------\n",
        "    INPUT:\n",
        "    bv = {bv} mm\n",
        "    D = {D} mm\n",
        "\n",
        "    f'c = {fc} MPa\n",
        "    fy = {fy} MPa\n",
        "\n",
        "    Shear Reinforcement: N{dia_shear}-{s_shear} ({n_leg} legs)\n",
        "\n",
        "    Longitudinal Reinforcement: {n_long}N{dia_long}\n",
        "\n",
        "    V* = {V_star} kN\n",
        "    M* = {M_star} kNm\n",
        "    N* = {N_star} kN\n",
        "\n",
        "    OUTPUT:\n",
        "    eps_x = {eps_x:.5f}\n",
        "    kv = {kv:.3f}\n",
        "    teta_v = {teta_v:.1f} deg\n",
        "\n",
        "    Vuc = {Vuc/1000:.2f} kN\n",
        "    Vus = {Vus/1000:.2f} kN\n",
        "    Vu = {Vu/1000:.2f} kN\n",
        "    phi_Vuc = {phi*Vuc/1000:.2f} kN\n",
        "    phi_Vus = {phi*Vus/1000:.2f} kN\n",
        "    phi_Vu = {phi_Vu:.2f} kN\n",
        "    D/C Ratio = {dc_ratio:.2f}\n",
        "    \"\"\")\n",
        "if dc_ratio > 1.0:\n",
        "  print(f'    NOT OK')\n",
        "else:\n",
        "  print(f'    OK')\n",
        "\n",
        "print(f\"\"\"\n",
        "    ------------------------------------------------------------\n",
        "    \"\"\")"
      ]
    },
    {
      "cell_type": "code",
      "source": [],
      "metadata": {
        "id": "NwlaAMOZXxnQ"
      },
      "id": "NwlaAMOZXxnQ",
      "execution_count": null,
      "outputs": []
    }
  ],
  "metadata": {
    "jupytext": {
      "cell_metadata_filter": "-all",
      "main_language": "python",
      "notebook_metadata_filter": "-all"
    },
    "colab": {
      "provenance": [],
      "include_colab_link": true
    },
    "language_info": {
      "name": "python"
    },
    "kernelspec": {
      "name": "python3",
      "display_name": "Python 3"
    }
  },
  "nbformat": 4,
  "nbformat_minor": 5
}