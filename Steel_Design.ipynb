{
  "nbformat": 4,
  "nbformat_minor": 0,
  "metadata": {
    "colab": {
      "provenance": [],
      "authorship_tag": "ABX9TyP1kVRYwvRaJf381BpVXcXJ",
      "include_colab_link": true
    },
    "kernelspec": {
      "name": "python3",
      "display_name": "Python 3"
    },
    "language_info": {
      "name": "python"
    }
  },
  "cells": [
    {
      "cell_type": "markdown",
      "metadata": {
        "id": "view-in-github",
        "colab_type": "text"
      },
      "source": [
        "<a href=\"https://colab.research.google.com/github/rezzzq/colab-notebook/blob/main/Steel_Design.ipynb\" target=\"_parent\"><img src=\"https://colab.research.google.com/assets/colab-badge.svg\" alt=\"Open In Colab\"/></a>"
      ]
    },
    {
      "cell_type": "markdown",
      "source": [
        "# Source Code"
      ],
      "metadata": {
        "id": "PWvl-bcK-nne"
      }
    },
    {
      "cell_type": "markdown",
      "source": [
        "## Install packages"
      ],
      "metadata": {
        "id": "w5W15Q6q4XnC"
      }
    },
    {
      "cell_type": "code",
      "source": [
        "!pip install sectionproperties==2.1.5"
      ],
      "metadata": {
        "id": "s6AnTEvn3uLx",
        "colab": {
          "base_uri": "https://localhost:8080/"
        },
        "outputId": "7c2c85d4-f003-4da5-9ba9-c76ea51c4bf2"
      },
      "execution_count": null,
      "outputs": [
        {
          "output_type": "stream",
          "name": "stdout",
          "text": [
            "Requirement already satisfied: sectionproperties==2.1.5 in /usr/local/lib/python3.10/dist-packages (2.1.5)\n",
            "Requirement already satisfied: numpy in /usr/local/lib/python3.10/dist-packages (from sectionproperties==2.1.5) (1.26.4)\n",
            "Requirement already satisfied: scipy in /usr/local/lib/python3.10/dist-packages (from sectionproperties==2.1.5) (1.13.1)\n",
            "Requirement already satisfied: more-itertools in /usr/local/lib/python3.10/dist-packages (from sectionproperties==2.1.5) (10.5.0)\n",
            "Requirement already satisfied: matplotlib>=3.4 in /usr/local/lib/python3.10/dist-packages (from sectionproperties==2.1.5) (3.7.1)\n",
            "Requirement already satisfied: shapely>=2.0 in /usr/local/lib/python3.10/dist-packages (from sectionproperties==2.1.5) (2.0.6)\n",
            "Requirement already satisfied: triangle in /usr/local/lib/python3.10/dist-packages (from sectionproperties==2.1.5) (20230923)\n",
            "Requirement already satisfied: cad-to-shapely>=0.3.1 in /usr/local/lib/python3.10/dist-packages (from sectionproperties==2.1.5) (0.3.1)\n",
            "Requirement already satisfied: rich in /usr/local/lib/python3.10/dist-packages (from sectionproperties==2.1.5) (13.9.2)\n",
            "Requirement already satisfied: ezdxf in /usr/local/lib/python3.10/dist-packages (from cad-to-shapely>=0.3.1->sectionproperties==2.1.5) (1.3.4)\n",
            "Requirement already satisfied: geomdl in /usr/local/lib/python3.10/dist-packages (from cad-to-shapely>=0.3.1->sectionproperties==2.1.5) (5.3.1)\n",
            "Requirement already satisfied: contourpy>=1.0.1 in /usr/local/lib/python3.10/dist-packages (from matplotlib>=3.4->sectionproperties==2.1.5) (1.3.0)\n",
            "Requirement already satisfied: cycler>=0.10 in /usr/local/lib/python3.10/dist-packages (from matplotlib>=3.4->sectionproperties==2.1.5) (0.12.1)\n",
            "Requirement already satisfied: fonttools>=4.22.0 in /usr/local/lib/python3.10/dist-packages (from matplotlib>=3.4->sectionproperties==2.1.5) (4.54.1)\n",
            "Requirement already satisfied: kiwisolver>=1.0.1 in /usr/local/lib/python3.10/dist-packages (from matplotlib>=3.4->sectionproperties==2.1.5) (1.4.7)\n",
            "Requirement already satisfied: packaging>=20.0 in /usr/local/lib/python3.10/dist-packages (from matplotlib>=3.4->sectionproperties==2.1.5) (24.1)\n",
            "Requirement already satisfied: pillow>=6.2.0 in /usr/local/lib/python3.10/dist-packages (from matplotlib>=3.4->sectionproperties==2.1.5) (10.4.0)\n",
            "Requirement already satisfied: pyparsing>=2.3.1 in /usr/local/lib/python3.10/dist-packages (from matplotlib>=3.4->sectionproperties==2.1.5) (3.1.4)\n",
            "Requirement already satisfied: python-dateutil>=2.7 in /usr/local/lib/python3.10/dist-packages (from matplotlib>=3.4->sectionproperties==2.1.5) (2.8.2)\n",
            "Requirement already satisfied: markdown-it-py>=2.2.0 in /usr/local/lib/python3.10/dist-packages (from rich->sectionproperties==2.1.5) (3.0.0)\n",
            "Requirement already satisfied: pygments<3.0.0,>=2.13.0 in /usr/local/lib/python3.10/dist-packages (from rich->sectionproperties==2.1.5) (2.18.0)\n",
            "Requirement already satisfied: typing-extensions<5.0,>=4.0.0 in /usr/local/lib/python3.10/dist-packages (from rich->sectionproperties==2.1.5) (4.12.2)\n",
            "Requirement already satisfied: mdurl~=0.1 in /usr/local/lib/python3.10/dist-packages (from markdown-it-py>=2.2.0->rich->sectionproperties==2.1.5) (0.1.2)\n",
            "Requirement already satisfied: six>=1.5 in /usr/local/lib/python3.10/dist-packages (from python-dateutil>=2.7->matplotlib>=3.4->sectionproperties==2.1.5) (1.16.0)\n"
          ]
        }
      ]
    },
    {
      "cell_type": "code",
      "source": [
        "from __future__ import annotations"
      ],
      "metadata": {
        "id": "V44pQMI602eV"
      },
      "execution_count": null,
      "outputs": []
    },
    {
      "cell_type": "markdown",
      "source": [
        "##Functions"
      ],
      "metadata": {
        "id": "03Hx_j5E3Rjy"
      }
    },
    {
      "cell_type": "markdown",
      "source": [
        "### Calcuate Local Slenderness Limit"
      ],
      "metadata": {
        "id": "_v_Tz6KZwkTq"
      }
    },
    {
      "cell_type": "code",
      "execution_count": null,
      "metadata": {
        "id": "QZ_6GKI0VVxU"
      },
      "outputs": [],
      "source": [
        "from enum import Enum, auto\n",
        "from collections import namedtuple\n",
        "from dataclasses import dataclass\n",
        "\n",
        "class PlateType(Enum):\n",
        "  FLAT = \"FLAT\"\n",
        "  HOLLOW = \"HOLLOW\"\n",
        "\n",
        "class PlateEdgeSupportType(Enum):\n",
        "  ONE = \"ONE\"\n",
        "  BOTH = \"BOTH\"\n",
        "\n",
        "class PlateStressType(Enum):\n",
        "  UNIFORM = \"UNIFORM\"\n",
        "  NON_UNIFORM = \"NON_UNIFORM\"\n",
        "\n",
        "class ResidualStressType(Enum):\n",
        "  SR = \"SR\"\n",
        "  HR = \"HR\"\n",
        "  LW = \"LW\"\n",
        "  CF = \"CF\"\n",
        "  HW = \"HW\"\n",
        "\n",
        "@dataclass\n",
        "class SlendernessLimit:\n",
        "  lambda_ep: float\n",
        "  lambda_ey: float\n",
        "  lambda_ed: float\n",
        "\n",
        "def local_slenderness_limit(plate_type, res_stress_type, support_type=None, stress_type=None):\n",
        "\n",
        "  match (plate_type, support_type):\n",
        "    case (PlateType.FLAT, PlateEdgeSupportType.ONE):\n",
        "      match stress_type:\n",
        "        case PlateStressType.UNIFORM:\n",
        "          match res_stress_type:\n",
        "            case ResidualStressType.SR:\n",
        "              limit = SlendernessLimit(10,16,35)\n",
        "            case ResidualStressType.HR:\n",
        "              limit = SlendernessLimit(9,16,35)\n",
        "            case ResidualStressType.LW:\n",
        "              limit = SlendernessLimit(8,15,35)\n",
        "            case ResidualStressType.CF:\n",
        "              limit = SlendernessLimit(8,15,35)\n",
        "            case ResidualStressType.HW:\n",
        "              limit = SlendernessLimit(8,14,35)\n",
        "            case _:\n",
        "              print(\"Incorrect plate residual stress type\")\n",
        "              return None\n",
        "        case PlateStressType.NON_UNIFORM:\n",
        "          match res_stress_type:\n",
        "            case ResidualStressType.SR:\n",
        "              limit = SlendernessLimit(10,25,None)\n",
        "            case ResidualStressType.HR:\n",
        "              limit = SlendernessLimit(9,25,None)\n",
        "            case ResidualStressType.LW:\n",
        "              limit = SlendernessLimit(8,22,None)\n",
        "            case ResidualStressType.CF:\n",
        "              limit = SlendernessLimit(8,22,None)\n",
        "            case ResidualStressType.HW:\n",
        "              limit = SlendernessLimit(8,22,None)\n",
        "            case _:\n",
        "              print(\"Incorrect plate residual stress type\")\n",
        "              return None\n",
        "        case _:\n",
        "              print(\"Incorrect plate stress type\")\n",
        "              return None\n",
        "\n",
        "    case (PlateType.FLAT, PlateEdgeSupportType.BOTH):\n",
        "      match stress_type:\n",
        "        case PlateStressType.UNIFORM:\n",
        "          match res_stress_type:\n",
        "            case ResidualStressType.SR:\n",
        "              limit = SlendernessLimit(30,45,90)\n",
        "            case ResidualStressType.HR:\n",
        "              limit = SlendernessLimit(30,45,90)\n",
        "            case ResidualStressType.LW:\n",
        "              limit = SlendernessLimit(30,40,90)\n",
        "            case ResidualStressType.CF:\n",
        "              limit = SlendernessLimit(30,40,90)\n",
        "            case ResidualStressType.HW:\n",
        "              limit = SlendernessLimit(30,35,90)\n",
        "            case _:\n",
        "              print(\"Incorrect plate residual stress type\")\n",
        "              return None\n",
        "        case PlateStressType.NON_UNIFORM:\n",
        "                limit = SlendernessLimit(82,115,None)\n",
        "        case _:\n",
        "          print(\"Incorrect plate stress type\")\n",
        "          return None\n",
        "    case (PlateType.HOLLOW, None):\n",
        "          match res_stress_type:\n",
        "              case ResidualStressType.SR:\n",
        "                limit = SlendernessLimit(50,120,None)\n",
        "              case ResidualStressType.HR:\n",
        "                limit = SlendernessLimit(50,120,None)\n",
        "              case ResidualStressType.LW:\n",
        "                limit = SlendernessLimit(42,120,None)\n",
        "              case ResidualStressType.CF:\n",
        "                limit = SlendernessLimit(50,120,None)\n",
        "              case ResidualStressType.HW:\n",
        "                limit = SlendernessLimit(42,120,None)\n",
        "              case _:\n",
        "                print(\"Incorrect plate residual stress type\")\n",
        "                return None\n",
        "    case _:\n",
        "      print(\"Incorrect plate type and/or plate edges support type\")\n",
        "      return None\n",
        "\n",
        "\n",
        "  return limit"
      ]
    },
    {
      "cell_type": "markdown",
      "source": [
        "### Calculate Local Slenderness"
      ],
      "metadata": {
        "id": "q0V4m2nnwreq"
      }
    },
    {
      "cell_type": "code",
      "source": [
        "import math\n",
        "\n",
        "def flat_section_local_slenderness(b,t,fy):\n",
        "  lambda_e = b/t * math.sqrt(fy/250)\n",
        "  return lambda_e\n",
        "\n",
        "def hollow_section_local_slenderness(do, t, fy):\n",
        "  lambda_s = do/t * fy/250\n",
        "  return lambda_s"
      ],
      "metadata": {
        "id": "qhN_uB8zwjwZ"
      },
      "execution_count": null,
      "outputs": []
    },
    {
      "cell_type": "code",
      "source": [
        "def lambda_ratio(lambda_e, lambda_ey):\n",
        "  return lambda_e/lambda_ey\n",
        "\n",
        "def compact_type(lambda_e, lambda_ep, lambda_ey):\n",
        "  if lambda_e <= lambda_ep:\n",
        "    compact_type = CompactType.COMPACT\n",
        "  elif lambda_e <= lambda_ey and lambda_e > lambda_ep:\n",
        "    compact_type = CompactType.NON_COMPACT\n",
        "  else:\n",
        "    compact_type = CompactType.SLENDER\n",
        "  return compact_type\n",
        "\n",
        "def calc_lambda_e(plate_type, b, t, fy):\n",
        "  match plate_type:\n",
        "    case PlateType.HOLLOW:\n",
        "      return hollow_section_local_slenderness(b, t, fy)\n",
        "    case _:\n",
        "      return flat_section_local_slenderness(b, t, fy)"
      ],
      "metadata": {
        "id": "smZ8qsxQLMGd"
      },
      "execution_count": null,
      "outputs": []
    },
    {
      "cell_type": "markdown",
      "source": [
        "### Calculate Ze"
      ],
      "metadata": {
        "id": "8w1emIYayZWd"
      }
    },
    {
      "cell_type": "code",
      "source": [
        "def calc_Ze(plate: Plate, elastic_section_mod, plastic_section_mod):\n",
        "  Zc = min(plastic_section_mod, 1.5*elastic_section_mod)\n",
        "  match plate.compact_type:\n",
        "    case CompactType.COMPACT:\n",
        "      Ze = Zc\n",
        "    case CompactType.NON_COMPACT:\n",
        "      Ze = elastic_section_mod + ((plate.lambda_limit.lambda_ey - plate.lambda_e)/(plate.lambda_limit.lambda_ey - plate.lambda_limit.lambda_ep))*Zc\n",
        "    case _:\n",
        "      match plate.plate_type:\n",
        "        case PlateType.FLAT:\n",
        "          if plate.stress_type == PlateStressType.UNIFORM:\n",
        "            Ze = elastic_section_mod*(plate.lambda_limit.lambda_ey/plate.lambda_e)\n",
        "          else:\n",
        "            Ze = elastic_section_mod*(plate.lambda_limit.lambda_ey/plate.lambda_e)**2\n",
        "        case PlateType.HOLLOW:\n",
        "          Ze1 = elastic_section_mod*math.sqrt(plate.lambda_limit.lambda_ey/plate.lambda_e)\n",
        "          Ze2 = elastic_section_mod*(2*plate.lambda_limit.lambda_ey/plate.lambda_e)**2\n",
        "          Ze = min(Ze1, Ze2)\n",
        "        case _:\n",
        "          print(\"Unhandled case\")\n",
        "          return None\n",
        "  return Ze\n"
      ],
      "metadata": {
        "id": "75sU_obFyhD2"
      },
      "execution_count": null,
      "outputs": []
    },
    {
      "cell_type": "markdown",
      "source": [
        "### Calculate Section Bending Capacity"
      ],
      "metadata": {
        "id": "RxjTPZH_0omK"
      }
    },
    {
      "cell_type": "code",
      "source": [
        "def calc_Ms(Ze, fy):\n",
        "  return fy*Ze"
      ],
      "metadata": {
        "id": "0q40Dj0v0sNB"
      },
      "execution_count": null,
      "outputs": []
    },
    {
      "cell_type": "markdown",
      "source": [
        "### Calculate Member Bending Capacity"
      ],
      "metadata": {
        "id": "JTsa7EriVC1K"
      }
    },
    {
      "cell_type": "markdown",
      "source": [
        "#### Type of restraint"
      ],
      "metadata": {
        "id": "7fQaf_q-qbjB"
      }
    },
    {
      "cell_type": "code",
      "source": [
        "class RestraintType(Enum):\n",
        "  FF = auto()\n",
        "  FL = auto()\n",
        "  LL = auto()\n",
        "  FU = auto()\n",
        "  FP = auto()\n",
        "  PL = auto()\n",
        "  PU = auto()\n",
        "  PP = auto()\n",
        "\n",
        "class EndRotationalRestraint(Enum):\n",
        "  NONE = auto()\n",
        "  ONE = auto()\n",
        "  BOTH = auto()"
      ],
      "metadata": {
        "id": "HmIQH8t9iWpM"
      },
      "execution_count": null,
      "outputs": []
    },
    {
      "cell_type": "markdown",
      "source": [
        "#### Calculate Effective Length"
      ],
      "metadata": {
        "id": "F_4bzuw8qffx"
      }
    },
    {
      "cell_type": "code",
      "source": [
        "def twist_restraint_factor(rest_type: RestraintType, d1, tf, tw, nw, length):\n",
        "  if tf is None or tw is None or tw is None:\n",
        "    return 1.0\n",
        "\n",
        "\n",
        "  match rest_type:\n",
        "    case RestraintType.FF | RestraintType.FL | RestraintType.LL | RestraintType.FU:\n",
        "      kt = 1.0\n",
        "    case RestraintType.FP | RestraintType.PL | RestraintType.PU:\n",
        "      kt = 1 + (((d1/length) * (tf/(2*tw))**3) / nw)\n",
        "    case RestraintType.PP:\n",
        "      kt = 1 + ((2*(d1/length) * (tf/(2*tw)**3)) / nw)\n",
        "    case _:\n",
        "      raise ValueError(f\"Restraint Type {rest_type} is unknown\")\n",
        "  return kt"
      ],
      "metadata": {
        "id": "8xkS5hNdh8Md"
      },
      "execution_count": null,
      "outputs": []
    },
    {
      "cell_type": "code",
      "source": [
        "def load_height_factor(rest_type: RestraintType, load_height_top=True, load_pos_end=False, grav=True):\n",
        "  if not grav:\n",
        "    return 1.0\n",
        "\n",
        "  if not load_height_top:\n",
        "    return 1.0\n",
        "\n",
        "  if load_pos_end:\n",
        "    match rest_type:\n",
        "      case RestraintType.FF | RestraintType.FP | RestraintType.FL | RestraintType.PP | RestraintType.PL | RestraintType.LL:\n",
        "        return 1.0\n",
        "      case RestraintType.FU | RestraintType.PU:\n",
        "        return 2.0\n",
        "      case _:\n",
        "        raise ValueError(f\"Restraint Type {rest_type} is unknown\")\n",
        "  else:\n",
        "    match rest_type:\n",
        "      case RestraintType.FF | RestraintType.FP | RestraintType.FL | RestraintType.PP | RestraintType.PL | RestraintType.LL:\n",
        "        return 1.4\n",
        "      case RestraintType.FU | RestraintType.PU:\n",
        "        return 2.0\n",
        "      case _:\n",
        "        raise ValueError(f\"Restraint Type {rest_type} is unknown\")\n",
        "\n"
      ],
      "metadata": {
        "id": "CUF2hF1MgSlT"
      },
      "execution_count": null,
      "outputs": []
    },
    {
      "cell_type": "code",
      "source": [
        "def rotation_restraint_factor(rest_type: RestraintType, rotation_restraint: EndRotationalRestraint = EndRotationalRestraint.NONE):\n",
        "  match rest_type:\n",
        "    case RestraintType.FF | RestraintType.FP | RestraintType.PP:\n",
        "      if rotation_restraint == EndRotationalRestraint.ONE:\n",
        "        return 0.85\n",
        "      elif rotation_restraint == EndRotationalRestraint.BOTH:\n",
        "        return 0.7\n",
        "      else:\n",
        "        return 1.0\n",
        "    case _:\n",
        "      return 1.0"
      ],
      "metadata": {
        "id": "fb5mmosziMx5"
      },
      "execution_count": null,
      "outputs": []
    },
    {
      "cell_type": "code",
      "source": [
        "def effective_length(kt, kl, kr, length):\n",
        "  return kt*kl*kr*length"
      ],
      "metadata": {
        "id": "BGp26cU4lQSN"
      },
      "execution_count": null,
      "outputs": []
    },
    {
      "cell_type": "markdown",
      "source": [
        "#### Calculate Mb"
      ],
      "metadata": {
        "id": "xd4Vgt_rqlUq"
      }
    },
    {
      "cell_type": "code",
      "source": [
        "def alpha_m(moment_dist_type: int, cantilever=False, beta_m=None, a=None, length=None):\n",
        "  if cantilever:\n",
        "    match moment_dist_type:\n",
        "      case 1:\n",
        "        return 0.25\n",
        "      case 2:\n",
        "        return 1.25\n",
        "      case 3:\n",
        "        return 2.25\n",
        "      case _:\n",
        "        raise ValueError(\"Moment Modification number should be from 1-3 based on the row number in table 5.6.2 AS 4100:1998\")\n",
        "\n",
        "  match moment_dist_type:\n",
        "    case 1:\n",
        "      if beta_m is None:\n",
        "        raise ValueError(\"beta_m is required\")\n",
        "      elif beta_m  <= 0.6 and beta_m >= -1:\n",
        "        return 1.75 + 1.05*beta_m + 0.3*beta_m**2\n",
        "      elif beta_m <= 1 and beta_m > 0.6:\n",
        "        return 2.5\n",
        "      else:\n",
        "        raise ValueError(\"beta_m is out of range\")\n",
        "    case 2:\n",
        "      if a is None or length is None:\n",
        "        raise ValueError(\"a and length is required\")\n",
        "      elif 2*a/length <= 1 and 2*a/length >= 0:\n",
        "        return 1 + 0.35 * (1 - (2*a/length))**2\n",
        "      else:\n",
        "        raise ValueError(\"2a/l is out of range\")\n",
        "    case 3:\n",
        "      if a is None or length is None:\n",
        "        raise ValueError(\"a and length is required\")\n",
        "      elif 2*a/length <= 1 and 2*a/length >= 0:\n",
        "        return 1.35 + 0.4 * ((2*a/length))**2\n",
        "      else:\n",
        "        raise ValueError(\"2a/l is out of range\")\n",
        "    case 4:\n",
        "      if beta_m is None:\n",
        "        raise ValueError(\"beta_m is required\")\n",
        "      elif beta_m  <= 0.9 and beta_m >= 0:\n",
        "        return 1.35 + 0.15*beta_m\n",
        "      elif beta_m <= 1 and beta_m >= 0.9:\n",
        "        return -1.2 + 3*beta_m\n",
        "      else:\n",
        "        raise ValueError(\"beta_m is out of range\")\n",
        "    case 5:\n",
        "      if beta_m is None:\n",
        "        raise ValueError(\"beta_m is required\")\n",
        "      elif beta_m  <= 1 and beta_m >= 0:\n",
        "        return 1.35 + 0.36*beta_m\n",
        "      else:\n",
        "        raise ValueError(\"beta_m is out of range\")\n",
        "    case 6:\n",
        "      if beta_m is None:\n",
        "        raise ValueError(\"beta_m is required\")\n",
        "      elif beta_m  <= 0.7 and beta_m >= 0:\n",
        "        return 1.13 + 0.1*beta_m\n",
        "      elif beta_m <= 1 and beta_m >= 0.7:\n",
        "        return -1.25 + 3.5*beta_m\n",
        "      else:\n",
        "        raise ValueError(\"beta_m is out of range\")\n",
        "    case 7:\n",
        "      if beta_m is None:\n",
        "        raise ValueError(\"beta_m is required\")\n",
        "      elif beta_m  <= 0.75 and beta_m >= 0:\n",
        "        return 1.13 + 0.12*beta_m\n",
        "      elif beta_m <= 1 and beta_m >= 0.75:\n",
        "        return -2.38 + 4.8*beta_m\n",
        "      else:\n",
        "        raise ValueError(\"beta_m is out of range\")\n",
        "    case 8:\n",
        "      return 1.0\n",
        "    case 9:\n",
        "      return 1.75\n",
        "    case 10:\n",
        "      return 2.5\n",
        "    case _:\n",
        "      raise ValueError(\"Moment Modification number should be from 1-10 based on the row number in table 5.6.1 AS 4100:1998\")"
      ],
      "metadata": {
        "id": "6tJeSyStrPNb"
      },
      "execution_count": null,
      "outputs": []
    },
    {
      "cell_type": "code",
      "source": [
        "def Mo(E, G, I_minor, J, Iw, beta, length_eff):\n",
        "  Py = math.pi**2*E*I_minor/length_eff**2\n",
        "  Pw = math.pi**2*E*Iw/length_eff**2\n",
        "\n",
        "  return math.sqrt(Py)*(math.sqrt(G*J + Pw + (beta**2 / 4)*Py)) + beta*math.sqrt(Py)"
      ],
      "metadata": {
        "id": "wLKU6ophVGWC"
      },
      "execution_count": null,
      "outputs": []
    },
    {
      "cell_type": "code",
      "source": [
        "def alpha_s(Ms, Mo):\n",
        "  return 0.6*(math.sqrt((Ms/Mo)**2 + 3) - (Ms/Mo))"
      ],
      "metadata": {
        "id": "SbAjMON9ok1C"
      },
      "execution_count": null,
      "outputs": []
    },
    {
      "cell_type": "code",
      "source": [
        "def Mb(alfa_m, alfa_s, Ms):\n",
        "  return min(Ms, alfa_m*alfa_s*Ms)"
      ],
      "metadata": {
        "id": "2UM8SFXdvmWl"
      },
      "execution_count": null,
      "outputs": []
    },
    {
      "cell_type": "markdown",
      "source": [
        "### Calculate Section Compression Capacity"
      ],
      "metadata": {
        "id": "uM6mSrfMJhhY"
      }
    },
    {
      "cell_type": "markdown",
      "source": [
        "#### Calculate Ns"
      ],
      "metadata": {
        "id": "T85jPcttJ2vC"
      }
    },
    {
      "cell_type": "code",
      "source": [
        "def calc_effective_area(plate_list: list[Plate]):\n",
        "  area_eff = 0\n",
        "  for plate in plate_list:\n",
        "    be = min(plate.b, plate.b * plate.lambda_limit.lambda_ey / plate.lambda_e)\n",
        "    area_eff += be*plate.t\n",
        "  return area_eff\n"
      ],
      "metadata": {
        "id": "Wa0qkoMTJm4Q"
      },
      "execution_count": null,
      "outputs": []
    },
    {
      "cell_type": "code",
      "source": [
        "def calc_kf(area_eff, area_gross):\n",
        "  return min(1,area_eff/area_gross)\n",
        "\n",
        "def calc_Ns(kf, area_net, fy):\n",
        "  return kf*area_net*fy"
      ],
      "metadata": {
        "id": "4B9JU9VyM-n3"
      },
      "execution_count": null,
      "outputs": []
    },
    {
      "cell_type": "markdown",
      "source": [
        "### Calculate Member Compression Capacity"
      ],
      "metadata": {
        "id": "CApzfjuHOU_h"
      }
    },
    {
      "cell_type": "code",
      "source": [
        "def compression_eff_length(ke, length):\n",
        "  return ke*length\n",
        "\n",
        "def calc_lambda_n(length_eff,r,kf,fy):\n",
        "  return (length_eff/r) * math.sqrt(kf) * math.sqrt(fy/250)\n",
        "\n",
        "def calc_alpha_a(lambda_n):\n",
        "  return (2100 * (lambda_n - 13.5))/(lambda_n**2 - 15.3*lambda_n + 2050)\n",
        "\n",
        "def calc_lambda_comp(lambda_n, alpha_a, alpha_b):\n",
        "  return lambda_n + alpha_a*alpha_b\n",
        "\n",
        "def calc_eta(lambda_comp):\n",
        "  return max(0, 0.00326*(lambda_comp-13.5))\n",
        "\n",
        "def calc_ksi(lambda_comp, eta):\n",
        "  return ((lambda_comp/90)**2 + 1 + eta) / (2*(lambda_comp/90)**2)\n",
        "\n",
        "def calc_alpha_c(ksi, lambda_comp):\n",
        "  return ksi * (1 - math.sqrt(1 - (90/(ksi*lambda_comp))**2))\n",
        "\n",
        "def calc_Nc(alpha_c, Ns):\n",
        "  return min(Ns, alpha_c*Ns)"
      ],
      "metadata": {
        "id": "nk0pmbEiOZ9l"
      },
      "execution_count": null,
      "outputs": []
    },
    {
      "cell_type": "markdown",
      "source": [
        "### Calculate Tension Capacity"
      ],
      "metadata": {
        "id": "OIe3rfcbWqmk"
      }
    },
    {
      "cell_type": "code",
      "source": [
        "class TensionConfigCase(Enum):\n",
        "  Ia = auto()\n",
        "  Ib = auto()\n",
        "  IIa = auto()\n",
        "  IIb = auto()\n",
        "  III = auto()\n",
        "  IV = auto()\n",
        "  V = auto()\n",
        "  VI = auto()\n",
        "  VII = auto()"
      ],
      "metadata": {
        "id": "2Q6mL7LUazaS"
      },
      "execution_count": null,
      "outputs": []
    },
    {
      "cell_type": "code",
      "source": [
        "def calc_tension_net_area(area_gross, area_holes):\n",
        "  return area_gross - area_holes\n",
        "\n",
        "def calc_kt(tension_config_case: TensionConfigCase):\n",
        "  match tension_config_case:\n",
        "    case TensionConfigCase.Ia:\n",
        "      return 0.75\n",
        "    case TensionConfigCase.Ib:\n",
        "      return 0.85\n",
        "    case TensionConfigCase.IIa:\n",
        "      return 0.75\n",
        "    case TensionConfigCase.IIb:\n",
        "      return 0.85\n",
        "    case TensionConfigCase.III:\n",
        "      return 0.85\n",
        "    case TensionConfigCase.IV:\n",
        "      return 0.9\n",
        "    case TensionConfigCase.V | TensionConfigCase.VI | TensionConfigCase.VII:\n",
        "      return 1.0\n",
        "    case _:\n",
        "      raise ValueError(\"Chose case from roman numeral Ia, Ib, IIa, IIb, III, IV, V, VI, VII from table 7.3.2 AS4100:1998\")\n",
        "\n",
        "\n",
        "def calc_Nt(area_gross, area_net, kt, fy, fu):\n",
        "  return min(area_gross*fy, 0.85*kt*area_net,fu)"
      ],
      "metadata": {
        "id": "EfCdh0b2W0KL"
      },
      "execution_count": null,
      "outputs": []
    },
    {
      "cell_type": "markdown",
      "source": [
        "### Combine Actions LRFD Design"
      ],
      "metadata": {
        "id": "S2dXcZQwfN0g"
      }
    },
    {
      "cell_type": "code",
      "source": [
        "def calc_axial_section_capacity_ratio(N_str, Ns, Nt, phi):\n",
        "  ratio_N = 0\n",
        "  if N_str >= 0: #tension\n",
        "    ratio_N = N_str/(phi*Nt)\n",
        "  elif N_str < 0: #compression\n",
        "    ratio_N = abs(N_str)/(phi*Ns)\n",
        "  return ratio_N"
      ],
      "metadata": {
        "id": "ZmT8iayDvhBR"
      },
      "execution_count": null,
      "outputs": []
    },
    {
      "cell_type": "code",
      "source": [
        "def calc_bending_section_capacity_ratio(N_str, M_str, Ns, Nt, Ms_pos, Ms_neg, phi):\n",
        "  ratio_M = 0\n",
        "\n",
        "  if M_str >= 0: #positive bending\n",
        "    ratio_M = M_str/(phi*Ms_pos)\n",
        "  elif M_str < 0: #negative bending\n",
        "    ratio_M = abs(M_str)/(phi*Ms_neg)\n",
        "\n",
        "  return ratio_M"
      ],
      "metadata": {
        "id": "EFcHcz3avpnE"
      },
      "execution_count": null,
      "outputs": []
    },
    {
      "cell_type": "code",
      "source": [
        "def calc_biaxial_section_capacity_ratio(ratio_N, ratio_Mx, ratio_My):\n",
        "  return ratio_N + ratio_Mx + ratio_My"
      ],
      "metadata": {
        "id": "vrZeFbJFfR8V"
      },
      "execution_count": null,
      "outputs": []
    },
    {
      "cell_type": "code",
      "source": [
        "def calc_axial_member_capacity_ratio(N_str, Nc, phi):\n",
        "  ratio_N = 0\n",
        "  if N_str < 0: #compression\n",
        "    ratio_N = abs(N_str)/(phi*Nc)\n",
        "  return ratio_N\n"
      ],
      "metadata": {
        "id": "MqUzedrEniy5"
      },
      "execution_count": null,
      "outputs": []
    },
    {
      "cell_type": "code",
      "source": [
        "def calc_section_bending_axial_factor(N_str, Ns, Nt, phi):\n",
        "  if N_str >= 0: #tension\n",
        "    factor = 1 - (N_str/(phi*Nt))\n",
        "  else: #compression\n",
        "    factor = 1 - (abs(N_str)/(phi*Ns))\n",
        "\n",
        "  return max(0, factor)"
      ],
      "metadata": {
        "id": "RMESj93hkvAZ"
      },
      "execution_count": null,
      "outputs": []
    },
    {
      "cell_type": "code",
      "source": [
        "def calc_Mr(N_str, sect_bending_axial_factor, Ms, phi):\n",
        "  return Ms*sect_bending_axial_factor"
      ],
      "metadata": {
        "id": "kboifnJnjuft"
      },
      "execution_count": null,
      "outputs": []
    },
    {
      "cell_type": "code",
      "source": [
        "def calc_member_in_plane_bending_axial_factor(N_str, Nc, Nt, phi):\n",
        "  if N_str >= 0: #tension\n",
        "    factor = 1 - N_str/(phi*Nt)\n",
        "  else: #compression\n",
        "    factor = 1 - (abs(N_str)/(phi*Nc))\n",
        "\n",
        "  return max(0,factor)"
      ],
      "metadata": {
        "id": "VQ8_AZeMqpFA"
      },
      "execution_count": null,
      "outputs": []
    },
    {
      "cell_type": "code",
      "source": [
        "def calc_Mi(Ms,member_in_plane_bending_axial_factor):\n",
        "  return Ms*member_in_plane_bending_axial_factor"
      ],
      "metadata": {
        "id": "g2_52SNdr8g3"
      },
      "execution_count": null,
      "outputs": []
    },
    {
      "cell_type": "code",
      "source": [
        "def calc_member_in_plane_capacity_ratio(M_str, Mi_pos, Mi_neg, phi):\n",
        "  if Mi_pos == 0 or Mi_neg == 0:\n",
        "    return float('inf')\n",
        "  if M_str >= 0: #positive bending\n",
        "    return M_str/(phi*Mi_pos)\n",
        "  else: #negative bending\n",
        "    return abs(M_str)/(phi*abs(Mi_neg))"
      ],
      "metadata": {
        "id": "CwCP1wLHxKQ_"
      },
      "execution_count": null,
      "outputs": []
    },
    {
      "cell_type": "code",
      "source": [
        "def calc_member_out_plane_bending_axial_factor(N_str, Ncy, Nt, phi):\n",
        "  if N_str >= 0: #tension\n",
        "    factor = 1 + N_str/(phi*Nt)\n",
        "  else: #compression\n",
        "    factor = 1 - (abs(N_str)/(phi*Ncy))\n",
        "\n",
        "  return max(0, factor)"
      ],
      "metadata": {
        "id": "haUMPtuWnRPg"
      },
      "execution_count": null,
      "outputs": []
    },
    {
      "cell_type": "code",
      "source": [
        "def calc_Mox(N_str, member_bending_axial_factor, Mbx, Mrx, phi):\n",
        "  return min(Mrx, Mbx*member_bending_axial_factor)\n",
        "\n"
      ],
      "metadata": {
        "id": "uGRxylAvjRd8"
      },
      "execution_count": null,
      "outputs": []
    },
    {
      "cell_type": "code",
      "source": [
        "def calc_member_out_plane_capacity_ratio(Mx_str, Mox_pos, Mox_neg, phi):\n",
        "  if Mox_pos == 0 or Mox_neg == 0:\n",
        "    return float('inf')\n",
        "  if Mx_str >= 0: #positive bending\n",
        "    return Mx_str/(phi*Mox_pos)\n",
        "  else: #negative bending\n",
        "    return abs(Mx_str)/(phi*abs(Mox_neg))"
      ],
      "metadata": {
        "id": "fONWJuAgn4S0"
      },
      "execution_count": null,
      "outputs": []
    },
    {
      "cell_type": "code",
      "source": [
        "def calc_Mtx(Mrx, Mox):\n",
        "  return min(Mrx, Mox)"
      ],
      "metadata": {
        "id": "mxWbxZoqsfOV"
      },
      "execution_count": null,
      "outputs": []
    },
    {
      "cell_type": "code",
      "source": [
        "def calc_Mcx(Mix, Mox):\n",
        "  return min(Mix, Mox)"
      ],
      "metadata": {
        "id": "qbYsIVhhsn-C"
      },
      "execution_count": null,
      "outputs": []
    },
    {
      "cell_type": "code",
      "source": [
        "def calc_biaxial_member_capacity_Mx_ratio(N_str, Mx_str, Mtx_pos, Mtx_neg, Mcx_pos, Mcx_neg, phi):\n",
        "  ratio_Mx = 0\n",
        "\n",
        "  if Mtx_pos == 0 or Mtx_neg == 0 or Mcx_pos == 0 or Mcx_neg == 0:\n",
        "    return float('inf')\n",
        "\n",
        "  if N_str >= 0: #tension\n",
        "    if Mx_str >= 0:\n",
        "      ratio_Mx = (Mx_str/(phi*Mtx_pos))**1.4\n",
        "    elif Mx_str < 0:\n",
        "      ratio_Mx = (abs(Mx_str)/(phi*abs(Mtx_neg)))**1.4\n",
        "\n",
        "  elif N_str < 0: #compression\n",
        "    if Mx_str >= 0:\n",
        "      ratio_Mx = (Mx_str/(phi*Mcx_pos))**1.4\n",
        "    elif Mx_str < 0:\n",
        "      ratio_Mx = (abs(Mx_str)/(phi*abs(Mcx_neg)))**1.4\n",
        "\n",
        "  return ratio_Mx"
      ],
      "metadata": {
        "id": "gs3G5I9twVyR"
      },
      "execution_count": null,
      "outputs": []
    },
    {
      "cell_type": "code",
      "source": [
        "def calc_biaxial_member_capacity_My_ratio(N_str, My_str, Mry_pos, Mry_neg, Miy_pos, Miy_neg, phi):\n",
        "  ratio_My = 0\n",
        "\n",
        "  if Mry_pos == 0 or Mry_neg == 0 or Miy_pos == 0 or Miy_neg == 0:\n",
        "    return float('inf')\n",
        "\n",
        "  if N_str >= 0: #tension\n",
        "    if My_str >= 0:\n",
        "      ratio_My = (My_str/(phi*Mry_pos))**1.4\n",
        "    elif My_str < 0:\n",
        "      ratio_My = (abs(My_str)/(phi*abs(Mry_neg)))**1.4\n",
        "\n",
        "  elif N_str < 0: #compression\n",
        "    if My_str >= 0:\n",
        "      ratio_My = (My_str/(phi*Miy_pos))**1.4\n",
        "    elif My_str < 0:\n",
        "      ratio_My = (abs(My_str)/(phi*abs(Miy_neg)))**1.4\n",
        "\n",
        "  return ratio_My"
      ],
      "metadata": {
        "id": "2XxgfXbHwopH"
      },
      "execution_count": null,
      "outputs": []
    },
    {
      "cell_type": "code",
      "source": [
        "def calc_biaxial_member_capacity_ratio(ratio_Mx, ratio_My):\n",
        "  return ratio_Mx + ratio_My\n"
      ],
      "metadata": {
        "id": "1_mrJ223hbCI"
      },
      "execution_count": null,
      "outputs": []
    },
    {
      "cell_type": "markdown",
      "source": [
        "## Classes"
      ],
      "metadata": {
        "id": "CY2qKnD_wfVO"
      }
    },
    {
      "cell_type": "markdown",
      "source": [
        "### SteelMaterial Class"
      ],
      "metadata": {
        "id": "rLzWW8wUYp0q"
      }
    },
    {
      "cell_type": "code",
      "source": [
        "from sectionproperties.pre.pre import Material\n",
        "\n",
        "@dataclass(frozen=True)\n",
        "class SteelMaterial(Material):\n",
        "  fu: float = None\n",
        "  yield_strength: float = 240\n",
        "  elastic_modulus: float = 200e3\n",
        "  poissons_ratio: float = 0.3\n",
        "  density: float = 7850e-3\n",
        "  color: str = \"cyan\""
      ],
      "metadata": {
        "id": "zBLRWeb5YTPs"
      },
      "execution_count": null,
      "outputs": []
    },
    {
      "cell_type": "markdown",
      "source": [
        "### Plate Class"
      ],
      "metadata": {
        "id": "tym9ZCqb1QXj"
      }
    },
    {
      "cell_type": "code",
      "source": [
        "from dataclasses import dataclass\n",
        "from typing import Optional\n",
        "from enum import Enum, auto\n",
        "\n",
        "class CompactType(Enum):\n",
        "  COMPACT = \"COMPACT\"\n",
        "  NON_COMPACT = \"NON_COMPACT\"\n",
        "  SLENDER = \"SLENDER\"\n",
        "\n",
        "\n",
        "@dataclass\n",
        "class Plate:\n",
        "  b:float\n",
        "  t:float\n",
        "  material: SteelMaterial\n",
        "  plate_type: PlateType\n",
        "  res_stress_type: ResidualStressType\n",
        "  support_type: Optional[PlateEdgeSupportType] = None\n",
        "  stress_type: Optional[PlateStressType] = None\n",
        "\n",
        "  @property\n",
        "  def lambda_e(self):\n",
        "    return calc_lambda_e(self.plate_type,self.b,self.t,self.material.yield_strength)\n",
        "\n",
        "  @property\n",
        "  def lambda_limit(self):\n",
        "    return local_slenderness_limit(self.plate_type, self.res_stress_type, self.support_type, self.stress_type)\n",
        "\n",
        "  @property\n",
        "  def lambda_ratio(self):\n",
        "    return lambda_ratio(self.lambda_e, self.lambda_limit.lambda_ey)\n",
        "\n",
        "  @property\n",
        "  def compact_type(self):\n",
        "    return compact_type(self.lambda_e, self.lambda_limit.lambda_ep, self.lambda_limit.lambda_ey)\n",
        "\n",
        "\n",
        "\n",
        "\n",
        "def section_slenderness(plate_list: list[Plate], fy):\n",
        "  if len(plate_list) != 1 and plate_list[0].plate_type == PlateType.HOLLOW:\n",
        "    raise ValueError(\"hollow plate can only have 1 element in the list\")\n",
        "\n",
        "  max_ratio = max(plate.lambda_ratio for plate in plate_list)\n",
        "\n",
        "  for plate in plate_list:\n",
        "    if plate.lambda_ratio == max_ratio:\n",
        "      return plate\n",
        "\n",
        "\n"
      ],
      "metadata": {
        "id": "VU_yZjHA1VC9"
      },
      "execution_count": null,
      "outputs": []
    },
    {
      "cell_type": "markdown",
      "source": [
        "### DesignSection Class"
      ],
      "metadata": {
        "id": "CIBLQF2yKz9Y"
      }
    },
    {
      "cell_type": "code",
      "source": [
        "from sectionproperties.analysis.section import Section\n",
        "\n",
        "@dataclass\n",
        "class DesignSection:\n",
        "  name: str\n",
        "  section: Section\n",
        "  material: SteelMaterial\n",
        "  plates_x: list[Plate]\n",
        "  plates_y: list[Plate]\n",
        "  area_holes: float = 0\n",
        "  tension_config_case: TensionConfigCase = TensionConfigCase.VI\n",
        "\n",
        "\n",
        "  @property\n",
        "  def fy(self):\n",
        "    return self.material.yield_strength\n",
        "\n",
        "  @property\n",
        "  def fu(self):\n",
        "    return self.material.fu\n",
        "\n",
        "  @property\n",
        "  def E(self):\n",
        "    return self.material.elastic_modulus\n",
        "\n",
        "  @property\n",
        "  def G(self):\n",
        "    return self.material.shear_modulus\n",
        "\n",
        "  @property\n",
        "  def A(self):\n",
        "    return self.section.get_area()\n",
        "\n",
        "  @property\n",
        "  def Zxp_pos(self):\n",
        "    return self.section.get_zp()[0]\n",
        "\n",
        "  @property\n",
        "  def Zxp_neg(self):\n",
        "    return self.section.get_zp()[1]\n",
        "\n",
        "  @property\n",
        "  def Zyp_pos(self):\n",
        "    return self.section.get_zp()[2]\n",
        "\n",
        "  @property\n",
        "  def Zyp_neg(self):\n",
        "    return self.section.get_zp()[3]\n",
        "\n",
        "  @property\n",
        "  def Sxp(self):\n",
        "    return self.section.get_s()[0]\n",
        "\n",
        "  @property\n",
        "  def Syp(self):\n",
        "    return self.section.get_s()[1]\n",
        "\n",
        "  @property\n",
        "  def Ixc(self):\n",
        "    return self.section.get_ic()[0]\n",
        "\n",
        "  @property\n",
        "  def Iyc(self):\n",
        "    return self.section.get_ic()[1]\n",
        "\n",
        "  @property\n",
        "  def Ixyc(self):\n",
        "    return self.section.get_ic()[2]\n",
        "\n",
        "  @property\n",
        "  def Ixp(self):\n",
        "    return self.section.get_ip()[0]\n",
        "\n",
        "  @property\n",
        "  def Iyp(self):\n",
        "    return self.section.get_ip()[1]\n",
        "\n",
        "  @property\n",
        "  def r_xp(self):\n",
        "    return self.section.get_rp()[0]\n",
        "\n",
        "  @property\n",
        "  def r_yp(self):\n",
        "    return self.section.get_rp()[1]\n",
        "\n",
        "  @property\n",
        "  def theta_p(self):\n",
        "    return self.section.get_phi()\n",
        "\n",
        "  @property\n",
        "  def Iw(self):\n",
        "    return self.section.get_gamma()\n",
        "\n",
        "  @property\n",
        "  def J(self):\n",
        "    return self.section.get_j()\n",
        "\n",
        "  @property\n",
        "  def beta_x_pos(self):\n",
        "    return self.section.get_beta_p()[0]\n",
        "\n",
        "  @property\n",
        "  def beta_x_neg(self):\n",
        "    return self.section.get_beta_p()[1]\n",
        "\n",
        "  @property\n",
        "  def local_buckling_x(self):\n",
        "    return section_slenderness(self.plates_x, self.fy)\n",
        "\n",
        "  @property\n",
        "  def local_buckling_y(self):\n",
        "    return section_slenderness(self.plates_y, self.fy)\n",
        "\n",
        "  ##Bending\n",
        "  @property\n",
        "  def Zexp_pos(self):\n",
        "    return calc_Ze(plate=self.local_buckling_x, elastic_section_mod=self.Zxp_pos, plastic_section_mod=self.Sxp)\n",
        "\n",
        "  @property\n",
        "  def Zexp_neg(self):\n",
        "    return calc_Ze(plate=self.local_buckling_x, elastic_section_mod=self.Zxp_neg, plastic_section_mod=self.Sxp)\n",
        "\n",
        "  @property\n",
        "  def Zeyp_pos(self):\n",
        "    return calc_Ze(plate=self.local_buckling_y, elastic_section_mod=self.Zyp_pos, plastic_section_mod=self.Syp)\n",
        "\n",
        "  @property\n",
        "  def Zeyp_neg(self):\n",
        "    return calc_Ze(plate=self.local_buckling_y, elastic_section_mod=self.Zyp_neg, plastic_section_mod=self.Syp)\n",
        "\n",
        "  @property\n",
        "  def Msxp_pos(self):\n",
        "    return calc_Ms(self.Zexp_pos, self.fy)\n",
        "\n",
        "  @property\n",
        "  def Msxp_neg(self):\n",
        "    return calc_Ms(self.Zexp_neg, self.fy)\n",
        "\n",
        "  @property\n",
        "  def Msyp_pos(self):\n",
        "    return calc_Ms(self.Zeyp_pos, self.fy)\n",
        "\n",
        "  @property\n",
        "  def Msyp_neg(self):\n",
        "    return calc_Ms(self.Zeyp_neg, self.fy)\n",
        "\n",
        "  ##Compression\n",
        "  @property\n",
        "  def Ae(self):\n",
        "    return calc_effective_area(self.plates_x)\n",
        "\n",
        "  @property\n",
        "  def kf(self):\n",
        "    return calc_kf(self.Ae, self.A)\n",
        "\n",
        "  @property\n",
        "  def Ns(self):\n",
        "    return calc_Ns(self.kf, self.A, self.fy)\n",
        "\n",
        "  ##Tension\n",
        "  @property\n",
        "  def An(self):\n",
        "    return calc_tension_net_area(self.A, self.area_holes)\n",
        "\n",
        "  @property\n",
        "  def kt(self):\n",
        "    return calc_kt(self.tension_config_case)\n",
        "\n",
        "  @property\n",
        "  def Nt(self):\n",
        "    return calc_Nt(self.A, self.An, self.kt, self.fy, self.fu)\n"
      ],
      "metadata": {
        "id": "Bew5m0v5Wwk2"
      },
      "execution_count": null,
      "outputs": []
    },
    {
      "cell_type": "markdown",
      "source": [
        "### DesignMember Class"
      ],
      "metadata": {
        "id": "eD0ywvaolhQk"
      }
    },
    {
      "cell_type": "code",
      "source": [
        "@dataclass\n",
        "class DesignMember:\n",
        "  design_section: DesignSection\n",
        "  rest_type_pos: RestraintType\n",
        "  rest_type_neg: RestraintType\n",
        "  rotation_rest: EndRotationalRestraint\n",
        "  tf: float\n",
        "  tw: float\n",
        "  length: float\n",
        "  length_ltb_pos: float\n",
        "  length_ltb_neg: float\n",
        "  d1: float\n",
        "  nw: int = 1\n",
        "  gravity_load: bool = True\n",
        "  load_height_top: bool = True\n",
        "  load_pos_end: bool = False\n",
        "  cantilever: bool = False\n",
        "  moment_dist_type: int = 8\n",
        "  beta_m: Optional[float] = None\n",
        "  a: Optional[float] = None\n",
        "\n",
        "  ##for Compression\n",
        "  ke: float = 1.0\n",
        "  alpha_b: float = 1.0\n",
        "\n",
        "\n",
        "  @property\n",
        "  def alpha_m(self):\n",
        "    return alpha_m(self.moment_dist_type, self.cantilever, self.beta_m, self.a, self.length)\n",
        "\n",
        "  @property\n",
        "  def kt_pos(self):\n",
        "    return twist_restraint_factor(self.rest_type_pos, self.d1, self.tf, self.tw, self.nw, self.length)\n",
        "\n",
        "  @property\n",
        "  def kl_pos(self):\n",
        "    return load_height_factor(self.rest_type_pos, self.load_height_top, self.load_pos_end, self.gravity_load)\n",
        "\n",
        "  @property\n",
        "  def kr_pos(self):\n",
        "    return rotation_restraint_factor(self.rest_type_pos, self.rotation_rest)\n",
        "\n",
        "  @property\n",
        "  def kt_neg(self):\n",
        "    return twist_restraint_factor(self.rest_type_neg, self.d1, self.tf, self.tw, self.nw, self.length)\n",
        "\n",
        "  @property\n",
        "  def kl_neg(self):\n",
        "    return load_height_factor(self.rest_type_neg, self.load_height_top, self.load_pos_end, self.gravity_load)\n",
        "\n",
        "  @property\n",
        "  def kr_neg(self):\n",
        "    return rotation_restraint_factor(self.rest_type_neg, self.rotation_rest)\n",
        "\n",
        "  @property\n",
        "  def length_eff_pos(self):\n",
        "    return effective_length(self.kt_pos, self.kl_pos, self.kr_pos, self.length_ltb_pos)\n",
        "\n",
        "  @property\n",
        "  def length_eff_neg(self):\n",
        "    return effective_length(self.kt_neg, self.kl_neg, self.kr_neg, self.length_ltb_neg)\n",
        "\n",
        "  @property\n",
        "  def Mo_pos(self):\n",
        "    return Mo(self.design_section.E, self.design_section.G, self.design_section.Iyp, self.design_section.J, self.design_section.Iw, self.design_section.beta_x_pos, self.length_eff_pos)\n",
        "\n",
        "  @property\n",
        "  def Mo_neg(self):\n",
        "    return Mo(self.design_section.E, self.design_section.G, self.design_section.Iyp, self.design_section.J, self.design_section.Iw, self.design_section.beta_x_pos, self.length_eff_neg)\n",
        "\n",
        "  @property\n",
        "  def alpha_s_pos(self):\n",
        "    return alpha_s(self.design_section.Msxp_pos, self.Mo_pos)\n",
        "\n",
        "  @property\n",
        "  def alpha_s_neg(self):\n",
        "    return alpha_s(self.design_section.Msxp_neg, self.Mo_neg)\n",
        "\n",
        "  @property\n",
        "  def Mbxp_pos(self):\n",
        "    return Mb(self.alpha_m, self.alpha_s_pos, self.design_section.Msxp_pos)\n",
        "\n",
        "  @property\n",
        "  def Mbxp_neg(self):\n",
        "    return Mb(self.alpha_m, self.alpha_s_neg, self.design_section.Msxp_neg)\n",
        "\n",
        "  ##Compression\n",
        "  @property\n",
        "  def length_eff_comp(self):\n",
        "     return compression_eff_length(self.ke, self.length)\n",
        "\n",
        "  @property\n",
        "  def lambda_n_x(self):\n",
        "    return calc_lambda_n(self.length_eff_comp, self.design_section.r_xp, self.design_section.kf, self.design_section.fy)\n",
        "\n",
        "  @property\n",
        "  def lambda_n_y(self):\n",
        "    return calc_lambda_n(self.length_eff_comp, self.design_section.r_yp, self.design_section.kf, self.design_section.fy)\n",
        "\n",
        "  @property\n",
        "  def alpha_a_x(self):\n",
        "    return calc_alpha_a(self.lambda_n_x)\n",
        "\n",
        "  @property\n",
        "  def alpha_a_y(self):\n",
        "    return calc_alpha_a(self.lambda_n_y)\n",
        "\n",
        "  @property\n",
        "  def lambda_comp_x(self):\n",
        "    return calc_lambda_comp(self.lambda_n_x, self.alpha_a_x, self.alpha_b)\n",
        "\n",
        "  @property\n",
        "  def lambda_comp_y(self):\n",
        "    return calc_lambda_comp(self.lambda_n_y, self.alpha_a_y, self.alpha_b)\n",
        "\n",
        "  @property\n",
        "  def eta_x(self):\n",
        "    return calc_eta(self.lambda_comp_x)\n",
        "\n",
        "  @property\n",
        "  def eta_y(self):\n",
        "    return calc_eta(self.lambda_comp_y)\n",
        "\n",
        "  @property\n",
        "  def ksi_x(self):\n",
        "    return calc_ksi(self.lambda_comp_x, self.eta_x)\n",
        "\n",
        "  @property\n",
        "  def ksi_y(self):\n",
        "    return calc_ksi(self.lambda_comp_y, self.eta_y)\n",
        "\n",
        "  @property\n",
        "  def alpha_c_x(self):\n",
        "    return calc_alpha_c(self.ksi_x, self.lambda_comp_x)\n",
        "\n",
        "  @property\n",
        "  def alpha_c_y(self):\n",
        "    return calc_alpha_c(self.ksi_y, self.lambda_comp_y)\n",
        "\n",
        "  @property\n",
        "  def Ncx(self):\n",
        "    return calc_Nc(self.alpha_c_x, self.design_section.Ns)\n",
        "\n",
        "  @property\n",
        "  def Ncy(self):\n",
        "    return calc_Nc(self.alpha_c_y, self.design_section.Ns)\n",
        "\n",
        "  def print_results(self):\n",
        "    if round(self.design_section.Zxp_pos,2) == round(self.design_section.Zxp_neg,2):\n",
        "      print(\"-\"*65)\n",
        "      print(f\"Section Name: {self.design_section.name}\")\n",
        "      print(\"-\"*65)\n",
        "      print(f\"BENDING\")\n",
        "      print(f\"length_eff_bending_pos = {self.length_eff_pos:.0f}mm\")\n",
        "      print(f\"length_eff_bending_neg = {self.length_eff_neg:.0f}mm\")\n",
        "      print(f\"compactness = {self.design_section.local_buckling_x.compact_type}\")\n",
        "      print(f\"alpha_m = {self.alpha_m:.2f}\")\n",
        "      print(f\"Mo(+) = {self.Mo_pos/1e6:.2f}kNm\")\n",
        "      print(f\"Mo(-) = {self.Mo_neg/1e6:.2f}kNm\")\n",
        "      print(f\"alpha_s(+) = {self.alpha_s_pos:.2f}\")\n",
        "      print(f\"alpha_s(-) = {self.alpha_s_neg:.2f}\")\n",
        "      print(f\"Zxp = {self.design_section.Zxp_pos:.2f}mm3\")\n",
        "      print(f\"Zexp = {self.design_section.Zexp_pos:.0f}mm3\")\n",
        "      print(f\"Msxp = {self.design_section.Msxp_pos/1e6:.2f}kNm\")\n",
        "      print(f\"Msyp = {self.design_section.Msyp_pos/1e6:.2f}kNm\")\n",
        "      print(f\"Mbxp(+) = {self.Mbxp_pos/1e6:.2f}kNm\")\n",
        "      print(f\"Mbxp(-) = {self.Mbxp_neg/1e6:.2f}kNm\")\n",
        "      print(\"-\"*65)\n",
        "    else:\n",
        "      print(\"-\"*65)\n",
        "      print(f\"Section Name: {self.design_section.name}\")\n",
        "      print(\"-\"*65)\n",
        "      print(f\"BENDING\")\n",
        "      print(f\"length_eff_bending_pos = {self.length_eff_pos:.0f}mm\")\n",
        "      print(f\"length_eff_bending_neg = {self.length_eff_neg:.0f}mm\")\n",
        "      print(f\"compactness = {self.design_section.local_buckling_x.compact_type}\")\n",
        "      print(f\"alpha_m = {self.alpha_m:.2f}\")\n",
        "      print(f\"alpha_s(+) = {self.alpha_s_pos:.2f}\")\n",
        "      print(f\"alpha_s(-) = {self.alpha_s_neg:.2f}\")\n",
        "      print(f\"Zxp(+) = {self.design_section.Zxp_pos:.2f}mm3\")\n",
        "      print(f\"Zxp(-) = {self.design_section.Zxp_neg:.2f}mm3\")\n",
        "      print(f\"Zexp(+) = {self.design_section.Zexp_pos:.0f}mm3\")\n",
        "      print(f\"Zexp(-) = {self.design_section.Zexp_neg:.0f}mm3\")\n",
        "      print(f\"Msxp(+) = {self.design_section.Msxp_pos/1e6:.2f}kNm\")\n",
        "      print(f\"Msxp(-) = {self.design_section.Msxp_neg/1e6:.2f}kNm\")\n",
        "      print(f\"Msyp(+) = {self.design_section.Msyp_pos/1e6:.2f}kNm\")\n",
        "      print(f\"Msyp(-) = {self.design_section.Msyp_neg/1e6:.2f}kNm\")\n",
        "      print(f\"Mbxp(+) = {self.Mbxp_pos/1e6:.2f}kNm\")\n",
        "      print(f\"Mbxp(-) = {self.Mbxp_neg/1e6:.2f}kNm\")\n",
        "      print(\"-\"*65)\n",
        "\n",
        "    print(f\"COMPRESSION\")\n",
        "    print(f\"ke = {self.ke:.2f}\")\n",
        "    print(f\"length_eff_compression = {self.length_eff_comp:.0f}mm\")\n",
        "    print(f\"kf = {self.design_section.kf:.2f}\")\n",
        "    print(f\"lambda_n = {self.lambda_n_y:.0f}\")\n",
        "    print(f\"alpha_b = {self.alpha_b:.1f}\")\n",
        "    print(f\"alpha_c = {self.alpha_c_y:.3f}\")\n",
        "    print(f\"Ns = {self.design_section.Ns/1e3:.2f}kN\")\n",
        "    print(f\"Ncx = {self.Ncx/1e3:.2f}kN\")\n",
        "    print(f\"Ncy = {self.Ncy/1e3:.2f}kN\")\n",
        "    print(\"-\"*65)\n",
        "\n",
        "    print(f\"TENSION\")\n",
        "    print(f\"kt = {self.design_section.kt:.2f}\")\n",
        "    print(f\"Nt = {self.design_section.Nt:.2f}kN\")"
      ],
      "metadata": {
        "id": "PZmuv8yCloAE"
      },
      "execution_count": null,
      "outputs": []
    },
    {
      "cell_type": "markdown",
      "source": [
        "### Section Classes"
      ],
      "metadata": {
        "id": "-JIE86c2DL91"
      }
    },
    {
      "cell_type": "markdown",
      "source": [
        "#### Section Base Class"
      ],
      "metadata": {
        "id": "CyNNtNWW6jYu"
      }
    },
    {
      "cell_type": "code",
      "source": [
        "from abc import ABC, abstractproperty\n",
        "\n",
        "from sectionproperties.pre.library.steel_sections import i_section\n",
        "from sectionproperties.pre.geometry import Geometry\n",
        "from sectionproperties.pre.pre import Material, DEFAULT_MATERIAL\n",
        "from sectionproperties.analysis.section import Section\n",
        "\n",
        "@dataclass(kw_only=True)\n",
        "class AbstractSection(ABC):\n",
        "  name: str\n",
        "  material: SteelMaterial\n",
        "  mesh_sizes: int = 50\n",
        "  area_holes: int = 0\n",
        "\n",
        "  @abstractproperty\n",
        "  def nw(self):\n",
        "    pass\n",
        "\n",
        "  @abstractproperty\n",
        "  def tf(self):\n",
        "    pass\n",
        "\n",
        "  @abstractproperty\n",
        "  def tw(self):\n",
        "    pass\n",
        "\n",
        "  @abstractproperty\n",
        "  def d1(self):\n",
        "    pass\n",
        "\n",
        "  @abstractproperty\n",
        "  def geometry(self) -> Geometry:\n",
        "    pass\n",
        "\n",
        "  @abstractproperty\n",
        "  def plates_x(self) -> list[Plate]:\n",
        "    pass\n",
        "\n",
        "  @abstractproperty\n",
        "  def plates_y(self) -> list[Plate]:\n",
        "    pass\n",
        "\n",
        "  @property\n",
        "  def analysis_section(self):\n",
        "    section = Section(self.geometry)\n",
        "    section.calculate_geometric_properties()\n",
        "    section.calculate_plastic_properties()\n",
        "    section.calculate_warping_properties()\n",
        "    return section\n",
        "\n",
        "  @property\n",
        "  def design_section(self):\n",
        "    design_section = DesignSection(self.name,self.analysis_section, self.material, self.plates_x, self.plates_y, self.area_holes)\n",
        "    return design_section\n"
      ],
      "metadata": {
        "id": "4OOYlYxz6ij3"
      },
      "execution_count": null,
      "outputs": []
    },
    {
      "cell_type": "markdown",
      "source": [
        "#### Custom Section"
      ],
      "metadata": {
        "id": "sY-jSypJEYjT"
      }
    },
    {
      "cell_type": "code",
      "source": [
        "from sectionproperties.pre.library.steel_sections import i_section\n",
        "from sectionproperties.pre.geometry import Geometry\n",
        "\n",
        "@dataclass(kw_only=True)\n",
        "class CustomSection(AbstractSection):\n",
        "  user_geometry: Geometry\n",
        "  user_plate_x: list[Plate]\n",
        "  user_plate_y: list[Plate]\n",
        "  user_tf: float\n",
        "  user_tw: float\n",
        "  user_d1: float\n",
        "  user_nw: int = 1\n",
        "\n",
        "  @property\n",
        "  def nw(self):\n",
        "    return self.user_nw\n",
        "\n",
        "  @property\n",
        "  def tf(self):\n",
        "    return self.user_tf\n",
        "\n",
        "  @property\n",
        "  def tw(self):\n",
        "    return self.user_tw\n",
        "\n",
        "  @property\n",
        "  def d1(self):\n",
        "    return self.user_d1\n",
        "\n",
        "  @property\n",
        "  def geometry(self) -> Geometry:\n",
        "    geometry = self.user_geometry\n",
        "    geometry.create_mesh(mesh_sizes=self.mesh_sizes)\n",
        "    return geometry\n",
        "\n",
        "  @property\n",
        "  def plates_x(self) -> list[Plate]:\n",
        "    return self.user_plates_x\n",
        "\n",
        "  @property\n",
        "  def plates_y(self) -> list[Plate]:\n",
        "    return self.user_plates_y"
      ],
      "metadata": {
        "id": "yVTRr-6SEW1p"
      },
      "execution_count": null,
      "outputs": []
    },
    {
      "cell_type": "markdown",
      "source": [
        "#### I beam"
      ],
      "metadata": {
        "id": "YSVFWWziDT2G"
      }
    },
    {
      "cell_type": "code",
      "source": [
        "from sectionproperties.pre.library.steel_sections import i_section\n",
        "from sectionproperties.pre.geometry import Geometry\n",
        "\n",
        "@dataclass(kw_only=True)\n",
        "class IBeamSection(AbstractSection):\n",
        "  bf: float\n",
        "  d: float\n",
        "  user_tf: float\n",
        "  user_tw: float\n",
        "  r: float\n",
        "  n_r: int = 5\n",
        "  user_nw: int = 1\n",
        "\n",
        "  @property\n",
        "  def nw(self):\n",
        "    return self.user_nw\n",
        "\n",
        "  @property\n",
        "  def tf(self):\n",
        "    return self.user_tf\n",
        "\n",
        "  @property\n",
        "  def tw(self):\n",
        "    return self.user_tw\n",
        "\n",
        "  @property\n",
        "  def d1(self):\n",
        "    return self.d-2*self.tf\n",
        "\n",
        "  @property\n",
        "  def geometry(self) -> Geometry:\n",
        "    geometry = i_section(self.d, self.bf, self.tf, self.tw, self.r, self.n_r)\n",
        "    geometry.create_mesh(mesh_sizes=self.mesh_sizes)\n",
        "    return geometry\n",
        "\n",
        "  @property\n",
        "  def plates_x(self) -> list[Plate]:\n",
        "    #major axis bending (x)\n",
        "    half_flange_x = Plate((self.bf-self.tw)/2, self.tf, self.material, PlateType.FLAT, ResidualStressType.HR, PlateEdgeSupportType.ONE, PlateStressType.UNIFORM)\n",
        "    web_x = Plate(self.d-2*self.tf, self.tw, self.material, PlateType.FLAT, ResidualStressType.HR, PlateEdgeSupportType.BOTH, PlateStressType.NON_UNIFORM)\n",
        "    plates_x = [half_flange_x, half_flange_x, half_flange_x, half_flange_x, web_x]\n",
        "\n",
        "    return plates_x\n",
        "\n",
        "  @property\n",
        "  def plates_y(self) -> list[Plate]:\n",
        "    #minor axis bending (y)\n",
        "    half_flange_y = Plate((self.bf-self.tw)/2, self.tf, self.material, PlateType.FLAT, ResidualStressType.HR, PlateEdgeSupportType.ONE, PlateStressType.NON_UNIFORM)\n",
        "    web_y = Plate(self.d-2*self.tf, self.tw, self.material, PlateType.FLAT, ResidualStressType.HR, PlateEdgeSupportType.BOTH, PlateStressType.UNIFORM)\n",
        "    plates_y = [half_flange_y, half_flange_y, half_flange_y, half_flange_y, web_y]\n",
        "\n",
        "    return plates_y\n"
      ],
      "metadata": {
        "id": "q2OxTkbHDRpQ"
      },
      "execution_count": null,
      "outputs": []
    },
    {
      "cell_type": "markdown",
      "source": [
        "#### CHS"
      ],
      "metadata": {
        "id": "qxvpZ3kg6QrR"
      }
    },
    {
      "cell_type": "code",
      "source": [
        "from sectionproperties.pre.library.steel_sections import circular_hollow_section\n",
        "from sectionproperties.pre.geometry import Geometry\n",
        "\n",
        "\n",
        "@dataclass(kw_only=True)\n",
        "class CHSSection(AbstractSection):\n",
        "  d: float\n",
        "  t: float\n",
        "  n_c: float = 20\n",
        "  material: SteelMaterial\n",
        "  mesh_sizes: int = 50\n",
        "  area_holes: int = 0\n",
        "\n",
        "  @property\n",
        "  def nw(self):\n",
        "    return None\n",
        "\n",
        "  @property\n",
        "  def tf(self):\n",
        "    return None\n",
        "\n",
        "  @property\n",
        "  def tw(self):\n",
        "    return None\n",
        "\n",
        "  @property\n",
        "  def d1(self):\n",
        "    return None\n",
        "\n",
        "  @property\n",
        "  def geometry(self) -> Geometry:\n",
        "    geometry = circular_hollow_section(d=self.d, t=self.t, n=self.n_c)\n",
        "    geometry.create_mesh(mesh_sizes=self.mesh_sizes)\n",
        "    return geometry\n",
        "\n",
        "  @property\n",
        "  def plates_x(self) -> list[Plate]:\n",
        "    plate_hollow = Plate(b=self.d, t=self.t, material=self.material, plate_type=PlateType.HOLLOW, res_stress_type=ResidualStressType.HR)\n",
        "    return [plate_hollow]\n",
        "\n",
        "  @property\n",
        "  def plates_y(self) -> list[Plate]:\n",
        "    return self.plates_x"
      ],
      "metadata": {
        "id": "1W_-3YfK6Pwf"
      },
      "execution_count": null,
      "outputs": []
    },
    {
      "cell_type": "markdown",
      "source": [
        "#### ROD"
      ],
      "metadata": {
        "id": "PxSnr4xXCrg3"
      }
    },
    {
      "cell_type": "code",
      "source": [
        "from sectionproperties.pre.library.primitive_sections import circular_section\n",
        "from sectionproperties.pre.geometry import Geometry\n",
        "\n",
        "\n",
        "@dataclass(kw_only=True)\n",
        "class RodSection(AbstractSection):\n",
        "  d: float\n",
        "  n_c: float = 20\n",
        "  material: SteelMaterial\n",
        "  mesh_sizes: int = 50\n",
        "  area_holes: int = 0\n",
        "\n",
        "  @property\n",
        "  def nw(self):\n",
        "    return None\n",
        "\n",
        "  @property\n",
        "  def tf(self):\n",
        "    return None\n",
        "\n",
        "  @property\n",
        "  def tw(self):\n",
        "    return None\n",
        "\n",
        "  @property\n",
        "  def d1(self):\n",
        "    return None\n",
        "\n",
        "  @property\n",
        "  def geometry(self) -> Geometry:\n",
        "    geometry = circular_section(d=self.d, n=self.n_c)\n",
        "    geometry.create_mesh(mesh_sizes=self.mesh_sizes)\n",
        "    return geometry\n",
        "\n",
        "  @property\n",
        "  def plates_x(self) -> list[Plate]:\n",
        "    plate_hollow = Plate(b=self.d, t=self.d, material=self.material, plate_type=PlateType.HOLLOW, res_stress_type=ResidualStressType.HR)\n",
        "    return [plate_hollow]\n",
        "\n",
        "  @property\n",
        "  def plates_y(self) -> list[Plate]:\n",
        "    return self.plates_x"
      ],
      "metadata": {
        "id": "eI6Tp-u4OGAq"
      },
      "execution_count": null,
      "outputs": []
    },
    {
      "cell_type": "markdown",
      "source": [
        "#### Double Angle"
      ],
      "metadata": {
        "id": "bxaYTpn0KKMO"
      }
    },
    {
      "cell_type": "code",
      "source": [
        "from sectionproperties.pre.library.steel_sections import angle_section\n",
        "from sectionproperties.pre.geometry import Geometry\n",
        "\n",
        "@dataclass(kw_only=True)\n",
        "class DoubleAngleSection(AbstractSection):\n",
        "  b: float\n",
        "  d: float\n",
        "  t: float\n",
        "  r_r: float\n",
        "  r_t: float\n",
        "  spacing: float = 10\n",
        "  n_r: int = 5\n",
        "\n",
        "  @property\n",
        "  def nw(self):\n",
        "    return 2\n",
        "\n",
        "  @property\n",
        "  def tf(self):\n",
        "    return self.t\n",
        "\n",
        "  @property\n",
        "  def tw(self):\n",
        "    return self.t\n",
        "\n",
        "  @property\n",
        "  def d1(self):\n",
        "    return self.d-self.t\n",
        "\n",
        "  @property\n",
        "  def geometry(self) -> Geometry:\n",
        "    right_angle = angle_section(d=self.d, b=self.b, t=self.t, r_r=self.r_r, r_t=self.r_t, n_r=self.n_r)\n",
        "    left_angle = right_angle.mirror_section(\"y\",[-self.spacing/2,0])\n",
        "    geometry = right_angle + left_angle\n",
        "    geometry.create_mesh(mesh_sizes=self.mesh_sizes)\n",
        "\n",
        "    return geometry\n",
        "\n",
        "  @property\n",
        "  def plates_x(self) -> list[Plate]:\n",
        "    #major axis bending (x)\n",
        "    flange_x = Plate((self.b-self.tw), self.tf, self.material, PlateType.FLAT, ResidualStressType.HR, PlateEdgeSupportType.ONE, PlateStressType.UNIFORM)\n",
        "    web_x = Plate(self.d-self.tf, self.tw, self.material, PlateType.FLAT, ResidualStressType.HR, PlateEdgeSupportType.ONE, PlateStressType.NON_UNIFORM)\n",
        "    plates_x = [flange_x, flange_x, web_x, web_x]\n",
        "\n",
        "    return plates_x\n",
        "\n",
        "  @property\n",
        "  def plates_y(self) -> list[Plate]:\n",
        "    #minor axis bending (y)\n",
        "    flange_y = Plate((self.b-self.tw), self.tf, self.material, PlateType.FLAT, ResidualStressType.HR, PlateEdgeSupportType.ONE, PlateStressType.NON_UNIFORM)\n",
        "    web_y = Plate(self.d-self.tf, self.tw, self.material, PlateType.FLAT, ResidualStressType.HR, PlateEdgeSupportType.ONE, PlateStressType.UNIFORM)\n",
        "    plates_y = [flange_y, flange_y, web_y, web_y]\n",
        "\n",
        "    return plates_y"
      ],
      "metadata": {
        "id": "v1bteaIuKOz-"
      },
      "execution_count": null,
      "outputs": []
    },
    {
      "cell_type": "markdown",
      "source": [
        "### Load Class"
      ],
      "metadata": {
        "id": "fEQ5QNLqdXte"
      }
    },
    {
      "cell_type": "code",
      "source": [
        "@dataclass\n",
        "class UltimateLoads:\n",
        "  lc_name: str\n",
        "  N_str: float\n",
        "  Mx_str: float\n",
        "  My_str: float\n",
        "  design_section: DesignSection\n",
        "\n",
        "  @property\n",
        "  def _theta_p(self): #alias\n",
        "    return self.design_section.theta_p\n",
        "\n",
        "  @property\n",
        "  def Mxp_str(self):\n",
        "    Mxp_str = self.Mx_str*math.cos(self._theta_p) + self.My_str*math.sin(self._theta_p)\n",
        "    return self.Mx_str\n",
        "\n",
        "  @property\n",
        "  def Myp_str(self):\n",
        "    Myp_str = self.My_str*math.cos(self._theta_p) - self.Mx_str*math.sin(self._theta_p)\n",
        "    return self.My_str\n",
        "\n",
        "  def print_principal_bending(self):\n",
        "    print(f\"theta_p: {math.degrees(self._theta_p):.1f}deg\")\n",
        "    print(f\"Mx_str: {self.Mx_str/1e6:.2f}\")\n",
        "    print(f\"My_str: {self.My_str/1e6:.2f}\")\n",
        "    print(f\"Mxp_str: {self.Mxp_str/1e6:.2f}\")\n",
        "    print(f\"Myp_str: {self.Myp_str/1e6:.2f}\")"
      ],
      "metadata": {
        "id": "lwxmmUaedcWL"
      },
      "execution_count": null,
      "outputs": []
    },
    {
      "cell_type": "markdown",
      "source": [
        "### LRFD Class"
      ],
      "metadata": {
        "id": "lGljfa0ZeQFw"
      }
    },
    {
      "cell_type": "code",
      "source": [
        "@dataclass\n",
        "class LRFDSteelDesign:\n",
        "  ult_loads: UltimateLoads\n",
        "  design_member: DesignMember\n",
        "  phi: float\n",
        "\n",
        "  @property\n",
        "  def _Ns(self): #alias\n",
        "    return self.design_member.design_section.Ns\n",
        "\n",
        "  @property\n",
        "  def fNs(self):\n",
        "    return self._Ns*self.phi\n",
        "\n",
        "  @property\n",
        "  def _Nt(self): #alias\n",
        "    return self.design_member.design_section.Ns\n",
        "\n",
        "  @property\n",
        "  def fNt(self):\n",
        "    return self._Nt*self.phi\n",
        "\n",
        "  @property\n",
        "  def fNcx(self):\n",
        "    return self.design_member.Ncx*self.phi\n",
        "\n",
        "  @property\n",
        "  def fNcy(self):\n",
        "    return self.design_member.Ncy*self.phi\n",
        "\n",
        "  @property\n",
        "  def _Msxp_pos(self): #alias\n",
        "    return self.design_member.design_section.Msxp_pos\n",
        "\n",
        "  @property\n",
        "  def fMsxp_pos(self):\n",
        "    return self._Msxp_pos*self.phi\n",
        "\n",
        "  @property\n",
        "  def _Msxp_neg(self): #alias\n",
        "    return self.design_member.design_section.Msxp_neg\n",
        "\n",
        "  @property\n",
        "  def fMsxp_neg(self):\n",
        "    return self._Msxp_neg*self.phi\n",
        "\n",
        "  @property\n",
        "  def _Msyp_pos(self): #alias\n",
        "    return self.design_member.design_section.Msyp_pos\n",
        "\n",
        "  @property\n",
        "  def fMsyp_pos(self):\n",
        "    return self._Msyp_pos*self.phi\n",
        "\n",
        "  @property\n",
        "  def _Msyp_neg(self): #alias\n",
        "    return self.design_member.design_section.Msyp_neg\n",
        "\n",
        "  @property\n",
        "  def fMsyp_neg(self):\n",
        "    return self._Msyp_neg*self.phi\n",
        "\n",
        "  @property\n",
        "  def fMbxp_pos(self):\n",
        "    return self.design_member.Mbxp_pos*self.phi\n",
        "\n",
        "  @property\n",
        "  def fMbxp_neg(self):\n",
        "    return self.design_member.Mbxp_neg*self.phi\n",
        "\n",
        "  ## Biaxial Section Capacity\n",
        "  @property\n",
        "  def N_section_capacity_ratio(self):\n",
        "    return calc_axial_section_capacity_ratio(self.ult_loads.N_str, self._Ns, self._Nt, self.phi)\n",
        "\n",
        "  @property\n",
        "  def Mxp_section_capacity_ratio(self):\n",
        "    return calc_bending_section_capacity_ratio(self.ult_loads.N_str, self.ult_loads.Mxp_str, self._Ns, self._Nt, self._Msxp_pos, self._Msxp_neg, self.phi)\n",
        "\n",
        "  @property\n",
        "  def Myp_section_capacity_ratio(self):\n",
        "    return calc_bending_section_capacity_ratio(self.ult_loads.N_str, self.ult_loads.Myp_str, self._Ns, self._Nt, self._Msyp_pos, self._Msyp_neg, self.phi)\n",
        "\n",
        "  @property\n",
        "  def biaxial_section_capacity_ratio(self):\n",
        "    return calc_biaxial_section_capacity_ratio(self.N_section_capacity_ratio, self.Mxp_section_capacity_ratio, self.Myp_section_capacity_ratio)\n",
        "\n",
        "  ## Axial Member Capacity\n",
        "  @property\n",
        "  def N_member_capacity_ratio(self):\n",
        "    return calc_axial_member_capacity_ratio(self.ult_loads.N_str, self.design_member.Ncy, self.phi)\n",
        "\n",
        "  ## Axial-Bending Uniaxial Member Capacity\n",
        "  @property\n",
        "  def section_bending_axial_factor(self):\n",
        "    return calc_section_bending_axial_factor(self.ult_loads.N_str, self._Ns, self._Nt, self.phi)\n",
        "\n",
        "  @property\n",
        "  def Mrxp_pos(self):\n",
        "    return calc_Mr(self.ult_loads.N_str, self.section_bending_axial_factor, self._Msxp_pos, self.phi)\n",
        "\n",
        "  @property\n",
        "  def fMrxp_pos(self):\n",
        "    return self.Mrxp_pos*self.phi\n",
        "\n",
        "  @property\n",
        "  def Mrxp_neg(self):\n",
        "    return calc_Mr(self.ult_loads.N_str, self.section_bending_axial_factor, self._Msxp_neg, self.phi)\n",
        "\n",
        "  @property\n",
        "  def fMrxp_neg(self):\n",
        "    return self.Mrxp_neg*self.phi\n",
        "\n",
        "  @property\n",
        "  def Mryp_pos(self):\n",
        "    return calc_Mr(self.ult_loads.N_str, self.section_bending_axial_factor, self._Msyp_pos, self.phi)\n",
        "\n",
        "  @property\n",
        "  def fMryp_pos(self):\n",
        "    return self.Mryp_pos*self.phi\n",
        "\n",
        "  @property\n",
        "  def Mryp_neg(self):\n",
        "    return calc_Mr(self.ult_loads.N_str, self.section_bending_axial_factor, self._Msyp_neg, self.phi)\n",
        "\n",
        "  @property\n",
        "  def fMryp_neg(self):\n",
        "    return self.Mryp_neg*self.phi\n",
        "\n",
        "  @property\n",
        "  def member_in_plane_bending_axial_factor_x(self):\n",
        "    return calc_member_in_plane_bending_axial_factor(self.ult_loads.N_str, self.design_member.Ncx, self._Nt, self.phi)\n",
        "\n",
        "  @property\n",
        "  def member_in_plane_bending_axial_factor_y(self):\n",
        "    return calc_member_in_plane_bending_axial_factor(self.ult_loads.N_str, self.design_member.Ncy, self._Nt, self.phi)\n",
        "\n",
        "  @property\n",
        "  def Mixp_pos(self):\n",
        "    return calc_Mi(self._Msxp_pos, self.member_in_plane_bending_axial_factor_x)\n",
        "\n",
        "  @property\n",
        "  def fMixp_pos(self):\n",
        "    return self.Mixp_pos*self.phi\n",
        "\n",
        "  @property\n",
        "  def Mixp_neg(self):\n",
        "    return calc_Mi(self._Msxp_neg, self.member_in_plane_bending_axial_factor_x)\n",
        "\n",
        "  @property\n",
        "  def fMixp_neg(self):\n",
        "    return self.Mixp_neg*self.phi\n",
        "\n",
        "  @property\n",
        "  def Miyp_pos(self):\n",
        "    return calc_Mi(self._Msyp_pos, self.member_in_plane_bending_axial_factor_y)\n",
        "\n",
        "  @property\n",
        "  def fMiyp_pos(self):\n",
        "    return self.Miyp_pos*self.phi\n",
        "\n",
        "  @property\n",
        "  def Miyp_neg(self):\n",
        "    return calc_Mi(self._Msyp_neg, self.member_in_plane_bending_axial_factor_y)\n",
        "\n",
        "  @property\n",
        "  def fMiyp_neg(self):\n",
        "    return self.Miyp_neg*self.phi\n",
        "\n",
        "  @property\n",
        "  def member_in_plane_capacity_ratio_x(self):\n",
        "    return calc_member_in_plane_capacity_ratio(self.ult_loads.Mxp_str, self.Mixp_pos, self.Mixp_neg, self.phi)\n",
        "\n",
        "  @property\n",
        "  def member_in_plane_capacity_ratio_y(self):\n",
        "    return calc_member_in_plane_capacity_ratio(self.ult_loads.Myp_str, self.Miyp_pos, self.Miyp_neg, self.phi)\n",
        "\n",
        "  @property\n",
        "  def member_out_plane_bending_axial_factor(self):\n",
        "    return calc_member_out_plane_bending_axial_factor(self.ult_loads.N_str, self.design_member.Ncy, self._Nt, self.phi)\n",
        "\n",
        "  @property\n",
        "  def Moxp_pos(self):\n",
        "    return calc_Mox(self.ult_loads.N_str, self.member_out_plane_bending_axial_factor, self.design_member.Mbxp_pos, self.Mrxp_pos, self.phi)\n",
        "\n",
        "  @property\n",
        "  def fMoxp_pos(self):\n",
        "    return self.Moxp_pos*self.phi\n",
        "\n",
        "  @property\n",
        "  def Moxp_neg(self):\n",
        "    return calc_Mox(self.ult_loads.N_str, self.member_out_plane_bending_axial_factor, self.design_member.Mbxp_neg, self.Mrxp_neg, self.phi)\n",
        "\n",
        "  @property\n",
        "  def fMoxp_neg(self):\n",
        "    return self.Moxp_neg*self.phi\n",
        "\n",
        "  @property\n",
        "  def member_out_plane_capacity_ratio(self):\n",
        "    return calc_member_out_plane_capacity_ratio(self.ult_loads.Mxp_str, self.Moxp_pos, self.Moxp_neg, self.phi)\n",
        "\n",
        "\n",
        "  ##Biaxial Member Capacity\n",
        "  @property\n",
        "  def Mtxp_pos(self):\n",
        "    return calc_Mtx(self.Mrxp_pos, self.Moxp_pos)\n",
        "\n",
        "  @property\n",
        "  def fMtxp_pos(self):\n",
        "    return self.Mtxp_pos*self.phi\n",
        "\n",
        "  @property\n",
        "  def Mtxp_neg(self):\n",
        "    return calc_Mtx(self.Mrxp_neg, self.Moxp_neg)\n",
        "\n",
        "  @property\n",
        "  def fMtxp_neg(self):\n",
        "    return self.Mtxp_neg*self.phi\n",
        "\n",
        "  @property\n",
        "  def Mcxp_pos(self):\n",
        "    return calc_Mcx(self.Mixp_pos, self.Moxp_pos)\n",
        "\n",
        "  @property\n",
        "  def fMcxp_pos(self):\n",
        "    return self.Mcxp_pos*self.phi\n",
        "\n",
        "  @property\n",
        "  def Mcxp_neg(self):\n",
        "    return calc_Mcx(self.Mixp_neg, self.Moxp_neg)\n",
        "\n",
        "  @property\n",
        "  def fMcxp_neg(self):\n",
        "    return self.Mcxp_neg*self.phi\n",
        "\n",
        "  @property\n",
        "  def biaxial_member_capacity_Mxp_ratio(self):\n",
        "    return calc_biaxial_member_capacity_Mx_ratio(self.ult_loads.N_str, self.ult_loads.Mxp_str, self.Mtxp_pos, self.Mtxp_neg, self.Mcxp_pos, self.Mcxp_neg, self.phi)\n",
        "\n",
        "  @property\n",
        "  def biaxial_member_capacity_Myp_ratio(self):\n",
        "    return calc_biaxial_member_capacity_My_ratio(self.ult_loads.N_str, self.ult_loads.Myp_str, self.Mryp_pos, self.Mryp_neg, self.Miyp_pos, self.Miyp_neg, self.phi)\n",
        "\n",
        "  @property\n",
        "  def biaxial_member_capacity_ratio(self):\n",
        "    return calc_biaxial_member_capacity_ratio(self.biaxial_member_capacity_Mxp_ratio, self.biaxial_member_capacity_Myp_ratio)\n",
        "\n",
        "  @property\n",
        "  def ratios(self):\n",
        "    return dict(N_section_capacity_ratio=self.N_section_capacity_ratio,\n",
        "                Mxp_section_capacity_ratio=self.Mxp_section_capacity_ratio,\n",
        "                Myp_section_capacity_ratio=self.Myp_section_capacity_ratio,\n",
        "                biaxial_section_capacity_ratio = self.biaxial_section_capacity_ratio,\n",
        "                member_axial_capacity_ratio = self.N_member_capacity_ratio,\n",
        "                member_in_plane_capacity_ratio_x = self.member_in_plane_capacity_ratio_x,\n",
        "                member_in_plane_capacity_ratio_y = self.member_in_plane_capacity_ratio_y,\n",
        "                member_out_plane_capacity_ratio = self.member_out_plane_capacity_ratio,\n",
        "                biaxial_member_capacity_ratio = self.biaxial_member_capacity_ratio)\n",
        "\n",
        "  @property\n",
        "  def govern_ratio(self):\n",
        "    max_ratio = max(self.ratios.values())\n",
        "    if max_ratio <= 1.0:\n",
        "      return max_ratio\n",
        "\n",
        "    fail_ratios = filter(lambda ratio: ratio > 1, self.ratios.values())\n",
        "    govern_ratio = min(fail_ratios)\n",
        "    return govern_ratio\n",
        "\n",
        "  @property\n",
        "  def govern_case(self):\n",
        "    return list(self.ratios.keys())[list(self.ratios.values()).index(self.govern_ratio)]\n",
        "\n",
        "  @property\n",
        "  def status(self):\n",
        "    if self.govern_ratio > 1.0:\n",
        "      return \"FAIL\"\n",
        "    else:\n",
        "      return \"PASS\"\n",
        "\n",
        "  def print_loads(self):\n",
        "    print(\"-\"*65)\n",
        "    print(f\"{f'LOAD COMBO: {self.ult_loads.lc_name}':=^65}\")\n",
        "    print(\"-\"*65)\n",
        "    print(f\"N*: {self.ult_loads.N_str/1e3:.2f}kN\")\n",
        "    print(f\"Mx*: {self.ult_loads.Mx_str/1e6:.2f}kNm\")\n",
        "    print(f\"My*: {self.ult_loads.My_str/1e6:.2f}kNm\")\n",
        "\n",
        "  def print_ratio_short(self):\n",
        "    print(\"-\"*65)\n",
        "    print(f\"governing_case: {self.govern_case}\")\n",
        "    print(f\"governing_ratio: {self.govern_ratio:.2f}\")\n",
        "    print(f\"design_status: {self.status}\")\n",
        "\n",
        "  def print_capacity(self):\n",
        "    print(f\"{'CAPACITY':=^65}\")\n",
        "    print(f\"Section Name: {self.design_member.design_section.name}\")\n",
        "    if self.ult_loads.Mx_str != 0:\n",
        "      print(f\"{'PURE MAJOR BENDING CAPACITY':=^45}\")\n",
        "      if self.ult_loads.Mx_str > 0:\n",
        "        print(f\"length_eff_bending = {self.design_member.length_eff_pos:.0f}mm\")\n",
        "      else:\n",
        "        print(f\"length_eff_bending = {self.design_member.length_eff_neg:.0f}mm\")\n",
        "\n",
        "      print(f\"compactness = {self.design_member.design_section.local_buckling_x.compact_type._value_}\")\n",
        "      print(f\"alpha_m = {self.design_member.alpha_m:.2f}\")\n",
        "\n",
        "      if self.ult_loads.Mx_str > 0:\n",
        "        print(f\"Mo = {self.design_member.Mo_pos/1e6:.2f}kNm\")\n",
        "        print(f\"alpha_s = {self.design_member.alpha_s_pos:.2f}\")\n",
        "        print(f\"Zxp = {self.design_member.design_section.Zxp_pos:.2f}mm3\")\n",
        "        print(f\"Zexp = {self.design_member.design_section.Zexp_pos:.0f}mm3\")\n",
        "        print(f\"fMsxp = {self.fMsxp_pos/1e6:.2f}kNm\")\n",
        "\n",
        "        print(f\"fMbxp = {self.fMbxp_pos/1e6:.2f}kNm\")\n",
        "      else:\n",
        "        print(f\"Mo = {self.design_member.Mo_neg/1e6:.2f}kNm\")\n",
        "        print(f\"alpha_s = {self.design_member.alpha_s_neg:.2f}\")\n",
        "        print(f\"Zxp = {self.design_member.design_section.Zxp_neg:.2f}mm3\")\n",
        "        print(f\"Zexp = {self.design_member.design_section.Zexp_neg:.0f}mm3\")\n",
        "        print(f\"fMsxp = {self.fMsxp_neg/1e6:.2f}kNm\")\n",
        "\n",
        "        print(f\"fMbxp = {self.fMbxp_neg/1e6:.2f}kNm\")\n",
        "\n",
        "      if self.ult_loads.My_str != 0:\n",
        "        print(f\"{'PURE MINOR BENDING CAPACITY':=^45}\")\n",
        "        if self.ult_loads.My_str > 0:\n",
        "          print(f\"fMsyp = {self.fMsyp_pos/1e6:.2f}kNm\")\n",
        "        else:\n",
        "          print(f\"fMsyp = {self.fMsyp_neg/1e6:.2f}kNm\")\n",
        "\n",
        "    if self.ult_loads.N_str < 0:\n",
        "      print(f\"{'PURE AXIAL COMPRESSION CAPACITY':=^45}\")\n",
        "      print(f\"ke = {self.design_member.ke:.2f}\")\n",
        "      print(f\"length_eff_compression = {self.design_member.length_eff_comp:.0f}mm\")\n",
        "      print(f\"kf = {self.design_member.design_section.kf:.2f}\")\n",
        "      print(f\"lambda_n = {self.design_member.lambda_n_y:.0f}\")\n",
        "      print(f\"alpha_b = {self.design_member.alpha_b:.1f}\")\n",
        "      print(f\"alpha_c = {self.design_member.alpha_c_y:.3f}\")\n",
        "      print(f\"fNs = {self.fNs/1e3:.2f}kN\")\n",
        "      print(f\"fNcx = {self.fNcx/1e3:.2f}kN\")\n",
        "      print(f\"fNcy = {self.fNcy/1e3:.2f}kN\")\n",
        "\n",
        "      if self.ult_loads.Mx_str != 0:\n",
        "        print(f\"{'COMPRESSION-MAJOR BENDING CAPACITY':=^45}\")\n",
        "        if self.ult_loads.Mx_str > 0:\n",
        "          print(f\"fMrx: {self.fMrxp_pos/1e6:.2f}kNm\")\n",
        "          print(f\"fMix: {self.fMixp_pos/1e6:.2f}kNm\")\n",
        "          print(f\"fMox: {self.fMoxp_pos/1e6:.2f}kNm\")\n",
        "        else:\n",
        "          print(f\"fMrx: {self.fMrxp_neg/1e6:.2f}kNm\")\n",
        "          print(f\"fMix: {self.fMixp_neg/1e6:.2f}kNm\")\n",
        "          print(f\"fMox: {self.fMoxp_neg/1e6:.2f}kNm\")\n",
        "\n",
        "      if self.ult_loads.My_str != 0:\n",
        "        print(f\"{'COMPRESSION-MINOR BENDING CAPACITY':=^45}\")\n",
        "        if self.ult_loads.My_str > 0:\n",
        "          print(f\"fMry: {self.fMryp_pos/1e6:.2f}kNm\")\n",
        "          print(f\"fMiy: {self.fMiyp_pos/1e6:.2f}kNm\")\n",
        "        else:\n",
        "          print(f\"fMry: {self.fMryp_neg/1e6:.2f}kNm\")\n",
        "          print(f\"fMiy: {self.fMiyp_pos/1e6:.2f}kNm\")\n",
        "\n",
        "    if self.ult_loads.N_str > 0:\n",
        "      print(f\"{'PURE AXIAL TENSION CAPACITY':=^45}\")\n",
        "      print(f\"kt = {self.design_member.design_section.kt:.2f}\")\n",
        "      print(f\"fNt = {self.fNt/1e3:.2f}kN\")\n",
        "      if self.ult_loads.Mx_str != 0:\n",
        "        print(f\"{'TENSION-MAJOR BENDING CAPACITY':=^45}\")\n",
        "        if self.ult_loads.Mx_str > 0:\n",
        "          print(f\"fMrx: {self.fMrxp_pos/1e6:.2f}kNm\")\n",
        "          print(f\"fMox: {self.fMoxp_pos/1e6:.2f}kNm\")\n",
        "        else:\n",
        "          print(f\"fMrx: {self.fMrxp_neg/1e6:.2f}kNm\")\n",
        "          print(f\"fMox: {self.fMoxp_neg/1e6:.2f}kNm\")\n",
        "      if self.ult_loads.My_str != 0:\n",
        "        print(f\"{'TENSION-MINOR BENDING CAPACITY':=^45}\")\n",
        "        if self.ult_loads.My_str > 0:\n",
        "          print(f\"fMry: {self.fMryp_pos/1e6:.2f}kNm\")\n",
        "        else:\n",
        "          print(f\"fMry: {self.fMryp_neg/1e6:.2f}kNm\")\n",
        "\n",
        "  def print_ratio_long(self):\n",
        "    print(f\"{'DESIGN RATIOS':=^65}\")\n",
        "    print(f\"{'SECTION CAPACITY RATIO':=^45}\")\n",
        "    print(f\"N_section_capacity_ratio: {self.N_section_capacity_ratio:.2f}\")\n",
        "    print(f\"Mxp_section_capacity_ratio: {self.Mxp_section_capacity_ratio:.2f}\")\n",
        "    print(f\"Myp_section_capacity_ratio: {self.Myp_section_capacity_ratio:.2f}\")\n",
        "    print(f\"biaxial_section_capacity_ratio: {self.biaxial_section_capacity_ratio:.2f}\")\n",
        "    print(f\"{'MEMBER CAPACITY RATIO':=^45}\")\n",
        "    print(f\"member_axial_capacity_ratio: {self.N_member_capacity_ratio:.2f}\")\n",
        "    print(f\"member_in_plane_capacity_ratio_x: {self.member_in_plane_capacity_ratio_x:.2f}\")\n",
        "    print(f\"member_in_plane_capacity_ratio_y: {self.member_in_plane_capacity_ratio_y:.2f}\")\n",
        "    print(f\"member_out_plane_capacity_ratio: {self.member_out_plane_capacity_ratio:.2f}\")\n",
        "    print(f\"biaxial_member_capacity_ratio: {self.biaxial_member_capacity_ratio:.2f}\")\n",
        "\n",
        "  def print_results(self):\n",
        "    self.print_loads()\n",
        "    self.print_ratio_short()\n",
        "    self.print_capacity()\n",
        "    self.print_ratio_long()\n",
        "\n",
        "  def print_ratio(self):\n",
        "    print(\"-\"*65)\n",
        "    print(\"-\"*65)\n",
        "    print(f\"Load Combo: {self.ult_loads.lc_name}\")\n",
        "    print(\"-\"*65)\n",
        "    print(\"Design Ratios\")\n",
        "    print(\"-\"*65)\n",
        "    print(\"Biaxial Section Capacity\")\n",
        "    print(f\"N_section_capacity_ratio: {self.N_section_capacity_ratio:.2f}\")\n",
        "    print(f\"Mxp_section_capacity_ratio: {self.Mxp_section_capacity_ratio:.2f}\")\n",
        "    print(f\"Myp_section_capacity_ratio: {self.Myp_section_capacity_ratio:.2f}\")\n",
        "    print(f\"biaxial_section_capacity_ratio: {self.biaxial_section_capacity_ratio:.2f}\")\n",
        "    print(\"-\"*65)\n",
        "    print(\"Member Capacity\")\n",
        "    print(f\"member_axial_capacity_ratio: {self.N_member_capacity_ratio:.2f}\")\n",
        "    print(f\"member_in_plane_capacity_ratio_x: {self.member_in_plane_capacity_ratio_x:.2f}\")\n",
        "    print(f\"member_in_plane_capacity_ratio_y: {self.member_in_plane_capacity_ratio_y:.2f}\")\n",
        "    print(f\"member_out_plane_capacity_ratio: {self.member_out_plane_capacity_ratio:.2f}\")\n",
        "    print(\"-\"*65)\n",
        "    print(\"Biaxial Member Capacity\")\n",
        "    print(f\"biaxial_member_capacity_ratio: {self.biaxial_member_capacity_ratio:.2f}\")\n",
        "    print(\"-\"*65)\n",
        "    print(f\"governing_case: {self.govern_case}\")\n",
        "    print(f\"governing_ratio: {self.govern_ratio:.2f}\")\n",
        "    print(f\"design_status: {self.status}\")\n"
      ],
      "metadata": {
        "id": "BBkB4cfeeT1p"
      },
      "execution_count": null,
      "outputs": []
    },
    {
      "cell_type": "markdown",
      "source": [
        "## Factories"
      ],
      "metadata": {
        "id": "c1V7wX7UeRs9"
      }
    },
    {
      "cell_type": "code",
      "source": [
        "from abc import ABC, abstractmethod\n",
        "\n",
        "class LibrarySectionFactory(ABC):\n",
        "\n",
        "  @abstractmethod\n",
        "  def get_library_section(self):\n",
        "    pass"
      ],
      "metadata": {
        "id": "f61WWWO7fnwj"
      },
      "execution_count": null,
      "outputs": []
    },
    {
      "cell_type": "code",
      "source": [
        "class IBeamSectionFactory(LibrarySectionFactory):\n",
        "\n",
        "  def get_library_section(self, bf, d, tf, tw, r, material):\n",
        "    return IBeamSection(bf=bf, d=d, user_tf=tf, user_tw=tw, r=r, material=material)"
      ],
      "metadata": {
        "id": "kT1OZ3RIf5FB"
      },
      "execution_count": null,
      "outputs": []
    },
    {
      "cell_type": "code",
      "source": [
        "class CHSSectionFactory(LibrarySectionFactory):\n",
        "\n",
        "  def get_library_section(self, d, t, material):\n",
        "    return CHSSection(d=d, t=t, material=material)"
      ],
      "metadata": {
        "id": "-urcTcgmglfK"
      },
      "execution_count": null,
      "outputs": []
    },
    {
      "cell_type": "code",
      "source": [
        "def create_library_section_factory(lib_section: str):\n",
        "  factories = {\n",
        "      \"I_BEAM\": IBeamSectionFactory(),\n",
        "      \"CHS\": CHSSectionFactory(),\n",
        "  }\n",
        "\n",
        "  if lib_section in factories:\n",
        "    return factories[lib_section]\n",
        "  raise ValueError(f\"Unknown library section: {lib_section}\")"
      ],
      "metadata": {
        "id": "Uz4G7W1YeUJi"
      },
      "execution_count": null,
      "outputs": []
    },
    {
      "cell_type": "markdown",
      "source": [
        "# Calculation"
      ],
      "metadata": {
        "id": "W3fq21iY8jnU"
      }
    },
    {
      "cell_type": "markdown",
      "source": [
        "### Custom Section Builder"
      ],
      "metadata": {
        "id": "17aJCBxxCe7A"
      }
    },
    {
      "cell_type": "code",
      "source": [
        "geometry = None\n",
        "plate_x = None\n",
        "plate_y = None"
      ],
      "metadata": {
        "id": "UFzFte8qClqA"
      },
      "execution_count": null,
      "outputs": []
    },
    {
      "cell_type": "markdown",
      "source": [
        "## Input"
      ],
      "metadata": {
        "id": "hiS43bgO8jnl"
      }
    },
    {
      "cell_type": "code",
      "source": [
        "## STEEL PROPERTIES\n",
        "fy = 320\n",
        "fu = 440\n",
        "\n",
        "## SECTION PROPERTIES\n",
        "library_section = True #False if custom section is defined\n",
        "lib_section = \"I-BEAM\" #choose section from library options: I-BEAM, CHS, DA, ROD\n",
        "section_name = \"150UC23.4\"\n",
        "mesh_sizes = 10\n",
        "\n",
        "#I-Beam\n",
        "bf = 152\n",
        "d = 152\n",
        "tf = 6.8\n",
        "tw = 6.1\n",
        "r = 10.0\n",
        "\n",
        "##CHS\n",
        "# d = 150\n",
        "# t = 10\n",
        "\n",
        "##Double Angle(DA)\n",
        "# b = 75\n",
        "# d = 75\n",
        "# t = 7.8\n",
        "# r_r = 8\n",
        "# r_t = 5\n",
        "# spacing = 20\n",
        "\n",
        "##ROD\n",
        "# d = 20\n",
        "\n",
        "##Custom Section\n",
        "geometry = None"
      ],
      "metadata": {
        "id": "eqp7vbBv8jnl"
      },
      "execution_count": null,
      "outputs": []
    },
    {
      "cell_type": "code",
      "source": [
        "## MEMBER PROPERTIES\n",
        "###For Flexure\n",
        "rest_type_pos = RestraintType.FU #restraint type on critical flange for positive bending\n",
        "rest_type_neg = RestraintType.FU #restraint type on critical flange for negative bending\n",
        "rotation_rest =  EndRotationalRestraint.NONE #rotational restraint at the member ends options: NONE, ONE, BOTH\n",
        "length = 8500 #mm #member length\n",
        "length_ltb_pos = 8500 #mm #LTB length under positive bending\n",
        "length_ltb_neg = 8500 #mm #LTB length under negative bending\n",
        "cantilever = True #is cantilever?\n",
        "\n",
        "##For Compression\n",
        "alpha_b = 1 #AS4100:1998 table 6.3.3, use value=1 to be conservative\n",
        "\n",
        "\n",
        "## DEFAULT MEMBER PROPERTIES (can be change in load combinations)\n",
        "###For Flexure\n",
        "gravity_load = False #whether the load that caused bending is gravity load\n",
        "load_height_top = True #location of the load at the top flange?\n",
        "load_pos_end = False #is the load at the end?\n",
        "moment_dist_type = 3 #from table 5.6.1 (1-10) if cantilever False, table 5.6.2 (1-3) if cantilever True. AS 4100:1998\n",
        "beta_m = None #provide if cantilever False and moment_dist_type is 1,4,5,6, or 7. Otherwise leave as None\n",
        "a = None #provide if cantilever False and moment_dist_type is 2 or 3. Otherwise leave as None\n",
        "\n",
        "##For Compression\n",
        "ke = 2.2 #AS4100:1998 cl.4.6.3"
      ],
      "metadata": {
        "id": "PI9L-LlY8jnm"
      },
      "execution_count": null,
      "outputs": []
    },
    {
      "cell_type": "code",
      "source": [
        "## LOADING\n",
        "excel_input=False #if True, upload loads.xlsx\n",
        "\n",
        "#excel header:\n",
        "#name | N_str | Mx_str | My_str | ke_ovr | moment_dist_type_ovr | beta_m_ovr | a_ovr | gravity_load_ovr | load_height_top_ovr | load_pos_end_ovr\n",
        "\n",
        "#if excel_input is False, input load below.\n",
        "loads =[\n",
        "    dict(name = \"0.9G+Wu_X(+)\",\n",
        "         N_str = 0, #kN #positive tension\n",
        "         Mx_str = 10.3, #kNm #bending moment about x axis (not necessarily principal axis xp)\n",
        "         My_str = 0, #kNm #bending moment about y axis (not necessarily principal axis yp))\n",
        "         ),\n",
        "    dict(name = \"0.9G+Wu_Y(+)\",\n",
        "         N_str = 0, #kN #positive tension\n",
        "         Mx_str = 0, #kNm #bending moment about x axis (not necessarily principal axis xp)\n",
        "         My_str = 10.3, #kNm #bending moment about y axis (not necessarily principal axis yp))\n",
        "         ),\n",
        "        dict(name = \"G+Q\",\n",
        "         N_str = -100, #kN #positive tension\n",
        "         Mx_str = 0, #kNm #bending moment about x axis (not necessarily principal axis xp)\n",
        "         My_str = 100, #kNm #bending moment about y axis (not necessarily principal axis yp))\n",
        "         ),\n",
        "]\n",
        "\n",
        "\n",
        "## DESIGN\n",
        "phi = 0.9"
      ],
      "metadata": {
        "id": "FSBTDb7x8jnm"
      },
      "execution_count": null,
      "outputs": []
    },
    {
      "cell_type": "markdown",
      "source": [
        "### Excel Import"
      ],
      "metadata": {
        "id": "LkmXyzps8jnm"
      }
    },
    {
      "cell_type": "code",
      "source": [
        "import pandas as pd\n",
        "import numpy as np\n",
        "\n",
        "#excel header:\n",
        "#name | N_str | Mx_str | My_str | ke_ovr | moment_dist_type_ovr | beta_m_ovr | a_ovr | gravity_load_ovr | load_height_top_ovr | load_pos_end_ovr\n",
        "if excel_input:\n",
        "  df_loads = pd.read_excel(\"loads.xlsx\")\n",
        "\n",
        "  df_loads = df_loads.replace(np.nan, None)"
      ],
      "metadata": {
        "id": "LEqIohrV8jnm"
      },
      "execution_count": null,
      "outputs": []
    },
    {
      "cell_type": "markdown",
      "source": [
        "## Calculations"
      ],
      "metadata": {
        "id": "Q5113XBt8jnm"
      }
    },
    {
      "cell_type": "markdown",
      "source": [
        "### Create Steel Material Properties"
      ],
      "metadata": {
        "id": "voJH3yNV8jnm"
      }
    },
    {
      "cell_type": "code",
      "source": [
        "steel = SteelMaterial(name=\"steel\", yield_strength=fy, fu=fu)"
      ],
      "metadata": {
        "id": "fbObGqYN8jnm"
      },
      "execution_count": null,
      "outputs": []
    },
    {
      "cell_type": "markdown",
      "source": [
        "### Create Design Section"
      ],
      "metadata": {
        "id": "xs23aN_j8jnm"
      }
    },
    {
      "cell_type": "code",
      "source": [
        "if library_section:\n",
        "  if lib_section == \"I-BEAM\":\n",
        "    section = IBeamSection(name=section_name, bf=bf, d=d, user_tf=tf, user_tw=tw, r=r, material=steel, mesh_sizes=mesh_sizes)\n",
        "  elif lib_section == \"CHS\":\n",
        "    section = CHSSection(name=section_name, d=d, t=t, material=steel, mesh_sizes=mesh_sizes)\n",
        "  elif lib_section == \"ROD\":\n",
        "    section = RodSection(name=section_name, d=d, material=steel, mesh_sizes=mesh_sizes)\n",
        "  elif lib_section == \"DA\":\n",
        "    section = DoubleAngleSection(name=section_name, b=b, d=d, t=t, r_r=r_r, r_t=r_t, spacing=spacing, material=steel, mesh_sizes=mesh_sizes)\n",
        "else:\n",
        "  section = None\n",
        "\n",
        "design_section = section.design_section"
      ],
      "metadata": {
        "id": "5qmQPiNu8jnm"
      },
      "execution_count": null,
      "outputs": []
    },
    {
      "cell_type": "markdown",
      "source": [
        "### Design"
      ],
      "metadata": {
        "id": "E2Ei3hl98jnn"
      }
    },
    {
      "cell_type": "code",
      "source": [
        "design_outputs=[]\n",
        "\n",
        "if excel_input:\n",
        "  for index,load in df_loads.iterrows():\n",
        "\n",
        "    if load[\"ke_ovr\"] is not None:\n",
        "      ke = load[\"ke_ovr\"]\n",
        "\n",
        "    if load[\"moment_dist_type_ovr\"] is not None:\n",
        "      moment_dist_type = load[\"moment_dist_type_ovr\"]\n",
        "\n",
        "    if load[\"beta_m_ovr\"] is not None:\n",
        "      beta_m = load[\"beta_m_ovr\"]\n",
        "\n",
        "    if load[\"a_ovr\"] is not None:\n",
        "      a = load[\"a_ovr\"]\n",
        "\n",
        "    if load[\"gravity_load_ovr\"] is not None:\n",
        "      gravity_load = load[\"gravity_load_ovr\"]\n",
        "\n",
        "    if load[\"load_height_top_ovr\"] is not None:\n",
        "      load_height_top = load[\"load_height_top_ovr\"]\n",
        "\n",
        "    if load[\"load_pos_end_ovr\"] is not None:\n",
        "      load_pos_end = load[\"load_pos_end_ovr\"]\n",
        "\n",
        "    load = UltimateLoads(load[\"name\"],load[\"N_str\"]*1e3,load[\"Mx_str\"]*1e6, load[\"My_str\"]*1e6, design_section)\n",
        "\n",
        "    design_member = DesignMember(design_section=design_section, rest_type_pos=rest_type_pos, rest_type_neg=rest_type_neg, rotation_rest=rotation_rest, tf=section.tf, tw=section.tw,\n",
        "                                  length=length, length_ltb_pos=length_ltb_pos, length_ltb_neg=length_ltb_neg, d1=section.d1, nw=section.nw, ke=ke, alpha_b=alpha_b, moment_dist_type=moment_dist_type, beta_m=beta_m,\n",
        "                                  a=a, gravity_load=gravity_load, load_height_top=load_height_top, load_pos_end=load_pos_end, cantilever=cantilever)\n",
        "\n",
        "\n",
        "    design_outputs.append(LRFDSteelDesign(load, design_member, phi))\n",
        "else:\n",
        "  for load in loads:\n",
        "\n",
        "    if \"ke_ovr\" in load and load[\"ke_ovr\"] is not None:\n",
        "      ke = load[\"ke_ovr\"]\n",
        "\n",
        "    if \"moment_dist_type_ovr\" in load and load[\"moment_dist_type_ovr\"] is not None:\n",
        "      moment_dist_type = load[\"moment_dist_type_ovr\"]\n",
        "\n",
        "    if \"beta_m_ovr\" in load and load[\"beta_m_ovr\"] is not None:\n",
        "      beta_m = load[\"beta_m_ovr\"]\n",
        "\n",
        "    if \"a_ovr\" in load and load[\"a_ovr\"] is not None:\n",
        "      a = load[\"a_ovr\"]\n",
        "\n",
        "    if \"gravity_load_ovr\" in load and load[\"gravity_load_ovr\"] is not None:\n",
        "      gravity_load = load[\"gravity_load_ovr\"]\n",
        "\n",
        "    if \"load_height_top_ovr\" in load and load[\"load_height_top_ovr\"] is not None:\n",
        "      load_height_top = load[\"load_height_top_ovr\"]\n",
        "\n",
        "    if \"load_pos_end_ovr\" in load and load[\"load_pos_end_ovr\"] is not None:\n",
        "      load_pos_end = load[\"load_pos_end_ovr\"]\n",
        "\n",
        "    load = UltimateLoads(load[\"name\"],load[\"N_str\"]*1e3,load[\"Mx_str\"]*1e6, load[\"My_str\"]*1e6, design_section)\n",
        "\n",
        "    design_member = DesignMember(design_section=design_section, rest_type_pos=rest_type_pos, rest_type_neg=rest_type_neg, rotation_rest=rotation_rest, tf=section.tf, tw=section.tw,\n",
        "                                  length=length, length_ltb_pos=length_ltb_pos, length_ltb_neg=length_ltb_neg, d1=section.d1, nw=section.nw, ke=ke, alpha_b=alpha_b, moment_dist_type=moment_dist_type, beta_m=beta_m,\n",
        "                                  a=a, gravity_load=gravity_load, load_height_top=load_height_top, load_pos_end=load_pos_end, cantilever=cantilever)\n",
        "    design_outputs.append(LRFDSteelDesign(load, design_member, phi))"
      ],
      "metadata": {
        "id": "qQbOWTjx8jnn"
      },
      "execution_count": null,
      "outputs": []
    },
    {
      "cell_type": "markdown",
      "source": [
        "## Display Section"
      ],
      "metadata": {
        "id": "OMteaElF8jnn"
      }
    },
    {
      "cell_type": "code",
      "source": [
        "design_section.section.plot_mesh()"
      ],
      "metadata": {
        "colab": {
          "base_uri": "https://localhost:8080/"
        },
        "outputId": "837d3725-3598-4d3d-bff8-3a2634a4e0d0",
        "id": "KtLUwxor8jnn"
      },
      "execution_count": null,
      "outputs": [
        {
          "output_type": "display_data",
          "data": {
            "text/plain": [
              "<Figure size 640x480 with 1 Axes>"
            ],
            "image/png": "[encoded data removed]"
          },
          "metadata": {}
        },
        {
          "output_type": "execute_result",
          "data": {
            "text/plain": [
              "<Axes: title={'center': 'Finite Element Mesh'}>"
            ]
          },
          "metadata": {},
          "execution_count": 86
        }
      ]
    },
    {
      "cell_type": "markdown",
      "source": [
        "## Display Design Results"
      ],
      "metadata": {
        "id": "Ub-nfE-b8jno"
      }
    },
    {
      "cell_type": "code",
      "source": [
        "for output in design_outputs:\n",
        "  output.print_results()"
      ],
      "metadata": {
        "colab": {
          "base_uri": "https://localhost:8080/"
        },
        "outputId": "1d081f14-9bb6-474b-ab8f-ed5d6f56bcac",
        "id": "DPO9YYbI8jno"
      },
      "execution_count": null,
      "outputs": [
        {
          "output_type": "stream",
          "name": "stdout",
          "text": [
            "-----------------------------------------------------------------\n",
            "====================LOAD COMBO: 0.9G+Wu_X(+)=====================\n",
            "-----------------------------------------------------------------\n",
            "N*: 0.00kN\n",
            "Mx*: 10.30kNm\n",
            "My*: 0.00kNm\n",
            "-----------------------------------------------------------------\n",
            "governing_case: member_out_plane_capacity_ratio\n",
            "governing_ratio: 0.26\n",
            "design_status: PASS\n",
            "============================CAPACITY=============================\n",
            "Section Name: 150UC23.4\n",
            "=========PURE MAJOR BENDING CAPACITY=========\n",
            "length_eff_bending = 8500mm\n",
            "compactness = NON_COMPACT\n",
            "alpha_m = 2.25\n",
            "Mo = 22.49kNm\n",
            "alpha_s = 0.22\n",
            "Zxp = 166723.75mm3\n",
            "Zexp = 269121mm3\n",
            "fMsxp = 77.51kNm\n",
            "fMbxp = 39.08kNm\n",
            "==========================DESIGN RATIOS==========================\n",
            "===========SECTION CAPACITY RATIO============\n",
            "N_section_capacity_ratio: 0.00\n",
            "Mxp_section_capacity_ratio: 0.13\n",
            "Myp_section_capacity_ratio: 0.00\n",
            "biaxial_section_capacity_ratio: 0.13\n",
            "============MEMBER CAPACITY RATIO============\n",
            "member_axial_capacity_ratio: 0.00\n",
            "member_in_plane_capacity_ratio_x: 0.13\n",
            "member_in_plane_capacity_ratio_y: 0.00\n",
            "member_out_plane_capacity_ratio: 0.26\n",
            "biaxial_member_capacity_ratio: 0.15\n",
            "-----------------------------------------------------------------\n",
            "====================LOAD COMBO: 0.9G+Wu_Y(+)=====================\n",
            "-----------------------------------------------------------------\n",
            "N*: 0.00kN\n",
            "Mx*: 0.00kNm\n",
            "My*: 10.30kNm\n",
            "-----------------------------------------------------------------\n",
            "governing_case: Myp_section_capacity_ratio\n",
            "governing_ratio: 0.45\n",
            "design_status: PASS\n",
            "============================CAPACITY=============================\n",
            "Section Name: 150UC23.4\n",
            "==========================DESIGN RATIOS==========================\n",
            "===========SECTION CAPACITY RATIO============\n",
            "N_section_capacity_ratio: 0.00\n",
            "Mxp_section_capacity_ratio: 0.00\n",
            "Myp_section_capacity_ratio: 0.45\n",
            "biaxial_section_capacity_ratio: 0.45\n",
            "============MEMBER CAPACITY RATIO============\n",
            "member_axial_capacity_ratio: 0.00\n",
            "member_in_plane_capacity_ratio_x: 0.00\n",
            "member_in_plane_capacity_ratio_y: 0.45\n",
            "member_out_plane_capacity_ratio: 0.00\n",
            "biaxial_member_capacity_ratio: 0.33\n",
            "-----------------------------------------------------------------\n",
            "=========================LOAD COMBO: G+Q=========================\n",
            "-----------------------------------------------------------------\n",
            "N*: -100.00kN\n",
            "Mx*: 0.00kNm\n",
            "My*: 100.00kNm\n",
            "-----------------------------------------------------------------\n",
            "governing_case: Myp_section_capacity_ratio\n",
            "governing_ratio: 4.41\n",
            "design_status: FAIL\n",
            "============================CAPACITY=============================\n",
            "Section Name: 150UC23.4\n",
            "=======PURE AXIAL COMPRESSION CAPACITY=======\n",
            "ke = 2.20\n",
            "length_eff_compression = 18700mm\n",
            "kf = 0.94\n",
            "lambda_n = 564\n",
            "alpha_b = 1.0\n",
            "alpha_c = 0.024\n",
            "fNs = 814.60kN\n",
            "fNcx = 58.45kN\n",
            "fNcy = 19.59kN\n",
            "=====COMPRESSION-MINOR BENDING CAPACITY======\n",
            "fMry: 19.87kNm\n",
            "fMiy: 0.00kNm\n",
            "==========================DESIGN RATIOS==========================\n",
            "===========SECTION CAPACITY RATIO============\n",
            "N_section_capacity_ratio: 0.12\n",
            "Mxp_section_capacity_ratio: 0.00\n",
            "Myp_section_capacity_ratio: 4.41\n",
            "biaxial_section_capacity_ratio: 4.54\n",
            "============MEMBER CAPACITY RATIO============\n",
            "member_axial_capacity_ratio: 5.10\n",
            "member_in_plane_capacity_ratio_x: inf\n",
            "member_in_plane_capacity_ratio_y: inf\n",
            "member_out_plane_capacity_ratio: inf\n",
            "biaxial_member_capacity_ratio: inf\n"
          ]
        }
      ]
    },
    {
      "cell_type": "markdown",
      "source": [
        "## Print Output File"
      ],
      "metadata": {
        "id": "JqSRn38s8jno"
      }
    },
    {
      "cell_type": "code",
      "source": [
        "import sys\n",
        "\n",
        "original_stdout = sys.stdout\n",
        "\n",
        "with open(\"output.txt\", \"w\") as f:\n",
        "  sys.stdout = f\n",
        "  for output in design_outputs:\n",
        "    output.print_results()\n",
        "  sys.stdout = original_stdout"
      ],
      "metadata": {
        "id": "q8zySHlR8jno"
      },
      "execution_count": null,
      "outputs": []
    },
    {
      "cell_type": "markdown",
      "source": [
        "# Calculation for Custom Section NOT USED"
      ],
      "metadata": {
        "id": "5DxdT5yy3Lov"
      }
    },
    {
      "cell_type": "markdown",
      "source": [
        "##Prepare Geometry and Run Solver"
      ],
      "metadata": {
        "id": "6SSoFREQD5vV"
      }
    },
    {
      "cell_type": "markdown",
      "source": [
        "###Prepare Geometry"
      ],
      "metadata": {
        "id": "wRgfvXos9E2L"
      }
    },
    {
      "cell_type": "code",
      "source": [
        "from sectionproperties.analysis.section import Section\n",
        "from sectionproperties.pre.library.steel_sections import i_section, circular_hollow_section, mono_i_section\n",
        "from sectionproperties.pre.library.primitive_sections import rectangular_section, circular_section\n",
        "\n",
        "\n",
        "#Section Parameter\n",
        "bf = 178\n",
        "h = 403\n",
        "tf = 10.9\n",
        "tw = 7.6\n",
        "r = 11.4\n",
        "\n",
        "# geometry = i_section(d=h, b=bf, t_f=tf, t_w=tw, r=r, n_r=5)\n",
        "# geometry = circular_hollow_section(d=150, t=10, n=50)\n",
        "geometry = mono_i_section(d=400, b_t=300, b_b=150, t_ft=11, t_fb=8, t_w=9, r=11, n_r=5)\n",
        "# geometry = rectangular_section(b=200, d=400)\n",
        "geometry = circular_section(d=20, n=10)\n",
        "geometry.create_mesh(mesh_sizes=1)\n",
        "\n",
        "geometry.plot_geometry()"
      ],
      "metadata": {
        "id": "eloYCtPW23s2"
      },
      "execution_count": null,
      "outputs": []
    },
    {
      "cell_type": "markdown",
      "source": [
        "### Sectionproperties Run Solver"
      ],
      "metadata": {
        "id": "5bDT2qt39IiC"
      }
    },
    {
      "cell_type": "code",
      "source": [
        "section = Section(geometry)\n",
        "section.calculate_geometric_properties()\n",
        "section.calculate_plastic_properties()\n",
        "section.calculate_warping_properties()\n",
        "section.display_results()\n",
        "section.plot_mesh()"
      ],
      "metadata": {
        "id": "7KOyqbl07Udf"
      },
      "execution_count": null,
      "outputs": []
    },
    {
      "cell_type": "markdown",
      "source": [
        "## Input Data"
      ],
      "metadata": {
        "id": "WfdLq2emEAmU"
      }
    },
    {
      "cell_type": "code",
      "source": [
        "##MATERIAL PROPERTIES\n",
        "E = 200_000 #MPa\n",
        "poissons_ratio = 0.3\n",
        "fy = 320 #MPa\n",
        "fu = 440 #MPa\n",
        "density = 7850"
      ],
      "metadata": {
        "id": "uvS62xaJEoJM"
      },
      "execution_count": null,
      "outputs": []
    },
    {
      "cell_type": "code",
      "source": [
        "##SECTION PROPERTIES\n",
        "area_holes = 0 #total area of holes for tension calculation\n",
        "tension_config_case = TensionConfigCase.VI #options = Ia, Ib, IIa, IIb, III, IV, V, VI, VII from table 7.3.2 AS4100:1998, value=None -> kt=1"
      ],
      "metadata": {
        "id": "20k9eOxkEuKD"
      },
      "execution_count": null,
      "outputs": []
    },
    {
      "cell_type": "code",
      "source": [
        "##MEMBER PROPERTIES\n",
        "rest_type = RestraintType.FF #restraint type\n",
        "rotation_rest =  EndRotationalRestraint.NONE #rotational restraint at the member ends options: NONE, ONE, BOTH\n",
        "d1 = d - 2*tf #clear distance between flanges\n",
        "length = 12500\n",
        "nw = 1 #number of web\n",
        "gravity_load = True #whether the load is gravity load\n",
        "load_height_top = False #location of the load at the top flange?\n",
        "load_pos_end = False #is the load at the end?\n",
        "cantilever = False #is cantilever?\n",
        "moment_dist_type = 9 #from table 5.6.1 (1-10) if cantilever False, table 5.6.2 (1-3) if cantilever True. AS 4100:1998\n",
        "beta_m = None #provide if cantilever False and moment_dist_type is 1,4,5,6, or 7. Otherwise leave as None\n",
        "a = None #provide if cantilever False and moment_dist_type is 2 or 3. Otherwise leave as None\n",
        "\n",
        "##for Compression\n",
        "ke = 1.2 #AS4100:1998 cl.4.6.3\n",
        "alpha_b = 0 #AS4100:1998 table 6.3.3"
      ],
      "metadata": {
        "id": "L8VCkLDtE3QI"
      },
      "execution_count": null,
      "outputs": []
    },
    {
      "cell_type": "code",
      "source": [
        "##LOADING\n",
        "N_str = -30 #kN #positive tension\n",
        "Mx_str =10 #kNm\n",
        "My_str = 0 #kNm"
      ],
      "metadata": {
        "id": "Oq_rAZoKE91F"
      },
      "execution_count": null,
      "outputs": []
    },
    {
      "cell_type": "code",
      "source": [
        "##DESIGN\n",
        "phi = 0.9"
      ],
      "metadata": {
        "id": "h5DflnouFD0D"
      },
      "execution_count": null,
      "outputs": []
    },
    {
      "cell_type": "markdown",
      "source": [
        "### Create Custom Local Buckling Plate(s)"
      ],
      "metadata": {
        "id": "6KNtFoeWx5DG"
      }
    },
    {
      "cell_type": "code",
      "source": [
        "mat = SteelMaterial(name=\"Steel\", elastic_modulus=E, poissons_ratio=poissons_ratio, yield_strength=fy, density=density*1e-3, fu=fu, color=\"teal\")"
      ],
      "metadata": {
        "id": "WI4WImmKDFVO"
      },
      "execution_count": null,
      "outputs": []
    },
    {
      "cell_type": "code",
      "source": [
        "#make sure both plates_x and plates_y cover the whole sections\n",
        "\n",
        "#major axis bending (x)\n",
        "\n",
        "half_flange_x = Plate((bf-tw)/2, tf, mat, PlateType.FLAT, ResidualStressType.HR, PlateEdgeSupportType.ONE, PlateStressType.UNIFORM)\n",
        "web_x = Plate(h-2*tf, tw, mat, PlateType.FLAT, ResidualStressType.HR, PlateEdgeSupportType.BOTH, PlateStressType.NON_UNIFORM)\n",
        "plates_x = [half_flange_x, half_flange_x, half_flange_x, half_flange_x, web_x]\n",
        "\n",
        "#minor axis bending (y)\n",
        "half_flange_y = Plate((bf-tw)/2, tf, mat, PlateType.FLAT, ResidualStressType.HR, PlateEdgeSupportType.ONE, PlateStressType.NON_UNIFORM)\n",
        "web_y = Plate(h-2*tf, tw, mat, PlateType.FLAT, ResidualStressType.HR, PlateEdgeSupportType.BOTH, PlateStressType.UNIFORM)\n",
        "plates_y = [half_flange_y, half_flange_y, half_flange_y, half_flange_y, web_y]"
      ],
      "metadata": {
        "id": "joE5QgaKyB91"
      },
      "execution_count": null,
      "outputs": []
    },
    {
      "cell_type": "markdown",
      "source": [
        "## Calculations"
      ],
      "metadata": {
        "id": "ld5ZDMK_FMnI"
      }
    },
    {
      "cell_type": "markdown",
      "source": [
        "### Create Material"
      ],
      "metadata": {
        "id": "sPprWk0hDGJz"
      }
    },
    {
      "cell_type": "markdown",
      "source": [
        "### Create Design Section"
      ],
      "metadata": {
        "id": "P_qRjSp3C-9C"
      }
    },
    {
      "cell_type": "code",
      "source": [
        "material = mat\n",
        "design_section = DesignSection(section, material, plates_x, plates_y, area_holes=area_holes, tension_config_case=tension_config_case)"
      ],
      "metadata": {
        "id": "Y7Il09Jexp7s"
      },
      "execution_count": null,
      "outputs": []
    },
    {
      "cell_type": "markdown",
      "source": [
        "### Create Design Member"
      ],
      "metadata": {
        "id": "9Xdi5QIT19fg"
      }
    },
    {
      "cell_type": "code",
      "source": [
        "design_member = DesignMember(design_section, rest_type, rotation_rest, tf, tw, length, d1, nw=nw, gravity_load=gravity_load,\n",
        "                             load_height_top=load_height_top, load_pos_end=load_pos_end, cantilever=cantilever, moment_dist_type=moment_dist_type, beta_m=beta_m, a=a, ke=ke, alpha_b=alpha_b)"
      ],
      "metadata": {
        "id": "ZITZy91L19JV"
      },
      "execution_count": null,
      "outputs": []
    },
    {
      "cell_type": "markdown",
      "source": [
        "### Loading Definition"
      ],
      "metadata": {
        "id": "WkTOS2nb_au8"
      }
    },
    {
      "cell_type": "code",
      "source": [
        "loads = UltimateLoads(N_str*1e3, Mx_str*1e6, My_str*1e6)"
      ],
      "metadata": {
        "id": "5hPwvgQq_aTY"
      },
      "execution_count": null,
      "outputs": []
    },
    {
      "cell_type": "markdown",
      "source": [
        "### Design"
      ],
      "metadata": {
        "id": "Zk-IAGmh_8iE"
      }
    },
    {
      "cell_type": "code",
      "source": [
        "design_output = LRFDSteelDesign(loads, design_member, phi)"
      ],
      "metadata": {
        "id": "XvexUK_hABAH"
      },
      "execution_count": null,
      "outputs": []
    },
    {
      "cell_type": "markdown",
      "source": [
        "## Display Design Results"
      ],
      "metadata": {
        "id": "iqz8ipbS586b"
      }
    },
    {
      "cell_type": "code",
      "source": [
        "design_output.print_ratio()\n",
        "print(\"-\"*65)\n",
        "print(f\"Bending\")\n",
        "print(f\"length_eff_bending = {design_member.length_eff:.0f}mm\")\n",
        "print(f\"compactness = {design_member.design_section.local_buckling_x.compact_type}\")\n",
        "print(f\"alpha_m = {design_member.alpha_m:.2f}\")\n",
        "print(f\"alpha_s(+) = {design_member.alpha_s_pos:.2f}\")\n",
        "print(f\"alpha_s(-) = {design_member.alpha_s_pos:.2f}\")\n",
        "print(f\"Zx(+) = {design_member.design_section.Zx_pos:.2f}mm3\")\n",
        "print(f\"Zx(-) = {design_member.design_section.Zx_neg:.2f}mm3\")\n",
        "print(f\"Zex(+) = {design_member.design_section.Zex_pos:.0f}mm3\")\n",
        "print(f\"Zex(-) = {design_member.design_section.Zex_neg:.0f}mm3\")\n",
        "print(f\"Msx(+) = {design_member.design_section.Msx_pos/1e6:.2f}kNm\")\n",
        "print(f\"Msx(-) = {design_member.design_section.Msx_neg/1e6:.2f}kNm\")\n",
        "print(f\"Msy(+) = {design_member.design_section.Msy_pos/1e6:.2f}kNm\")\n",
        "print(f\"Msy(-) = {design_member.design_section.Msy_neg/1e6:.2f}kNm\")\n",
        "print(f\"Mbx(+) = {design_member.Mbx_pos/1e6:.2f}kNm\")\n",
        "print(f\"Mbx(-) = {design_member.Mbx_neg/1e6:.2f}kNm\")\n",
        "print(\"-\"*65)\n",
        "\n",
        "print(f\"Compression\")\n",
        "print(f\"ke = {design_member.ke:.2f}\")\n",
        "print(f\"length_eff_compression = {design_member.length_eff_comp:.0f}mm\")\n",
        "print(f\"kf = {design_section.kf:.2f}\")\n",
        "print(f\"lambda_n = {design_member.lambda_n_y:.0f}\")\n",
        "print(f\"alpha_b = {design_member.alpha_b:.1f}\")\n",
        "print(f\"alpha_c = {design_member.alpha_c_y:.3f}\")\n",
        "print(f\"Ns = {design_section.Ns/1e3:.2f}kN\")\n",
        "print(f\"Ncx = {design_member.Ncx/1e3:.2f}kN\")\n",
        "print(f\"Ncy = {design_member.Ncy/1e3:.2f}kN\")\n",
        "print(\"-\"*65)\n",
        "\n",
        "print(f\"Tension\")\n",
        "print(f\"kt = {design_section.kt:.2f}\")\n",
        "print(f\"Nt = {design_section.Nt:.2f}kN\")"
      ],
      "metadata": {
        "id": "su2VNl1R6DSg"
      },
      "execution_count": null,
      "outputs": []
    }
  ]
}